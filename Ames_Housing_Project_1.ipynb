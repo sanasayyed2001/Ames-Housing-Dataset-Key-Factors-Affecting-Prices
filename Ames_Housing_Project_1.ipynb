{
 "cells": [
  {
   "cell_type": "code",
   "execution_count": 1,
   "id": "35767262-4aa4-4b65-a638-0daf35ff30f1",
   "metadata": {},
   "outputs": [],
   "source": [
    "# Importing Libraries:\n",
    "import numpy as np\n",
    "import pandas as pd\n",
    "import matplotlib.pyplot as plt\n",
    "import seaborn as sns\n",
    "import warnings\n",
    "warnings.filterwarnings(\"ignore\")"
   ]
  },
  {
   "cell_type": "code",
   "execution_count": 2,
   "id": "aa1b1b87-4e13-43ce-b0c4-1109d673e7b0",
   "metadata": {},
   "outputs": [
    {
     "data": {
      "text/html": [
       "<div>\n",
       "<style scoped>\n",
       "    .dataframe tbody tr th:only-of-type {\n",
       "        vertical-align: middle;\n",
       "    }\n",
       "\n",
       "    .dataframe tbody tr th {\n",
       "        vertical-align: top;\n",
       "    }\n",
       "\n",
       "    .dataframe thead th {\n",
       "        text-align: right;\n",
       "    }\n",
       "</style>\n",
       "<table border=\"1\" class=\"dataframe\">\n",
       "  <thead>\n",
       "    <tr style=\"text-align: right;\">\n",
       "      <th></th>\n",
       "      <th>Neighborhood</th>\n",
       "      <th>Year Built</th>\n",
       "      <th>Overall Qual</th>\n",
       "      <th>Kitchen Qual</th>\n",
       "      <th>Exter Qual</th>\n",
       "      <th>Lot Area</th>\n",
       "      <th>SalePrice</th>\n",
       "    </tr>\n",
       "    <tr>\n",
       "      <th>PID</th>\n",
       "      <th></th>\n",
       "      <th></th>\n",
       "      <th></th>\n",
       "      <th></th>\n",
       "      <th></th>\n",
       "      <th></th>\n",
       "      <th></th>\n",
       "    </tr>\n",
       "  </thead>\n",
       "  <tbody>\n",
       "    <tr>\n",
       "      <th>526301100</th>\n",
       "      <td>NAmes</td>\n",
       "      <td>1960</td>\n",
       "      <td>6</td>\n",
       "      <td>TA</td>\n",
       "      <td>TA</td>\n",
       "      <td>31770</td>\n",
       "      <td>215000</td>\n",
       "    </tr>\n",
       "    <tr>\n",
       "      <th>526350040</th>\n",
       "      <td>NAmes</td>\n",
       "      <td>1961</td>\n",
       "      <td>5</td>\n",
       "      <td>TA</td>\n",
       "      <td>TA</td>\n",
       "      <td>11622</td>\n",
       "      <td>105000</td>\n",
       "    </tr>\n",
       "    <tr>\n",
       "      <th>526351010</th>\n",
       "      <td>NAmes</td>\n",
       "      <td>1958</td>\n",
       "      <td>6</td>\n",
       "      <td>Gd</td>\n",
       "      <td>TA</td>\n",
       "      <td>14267</td>\n",
       "      <td>172000</td>\n",
       "    </tr>\n",
       "    <tr>\n",
       "      <th>526353030</th>\n",
       "      <td>NAmes</td>\n",
       "      <td>1968</td>\n",
       "      <td>7</td>\n",
       "      <td>Ex</td>\n",
       "      <td>Gd</td>\n",
       "      <td>11160</td>\n",
       "      <td>244000</td>\n",
       "    </tr>\n",
       "    <tr>\n",
       "      <th>527105010</th>\n",
       "      <td>Gilbert</td>\n",
       "      <td>1997</td>\n",
       "      <td>5</td>\n",
       "      <td>TA</td>\n",
       "      <td>TA</td>\n",
       "      <td>13830</td>\n",
       "      <td>189900</td>\n",
       "    </tr>\n",
       "    <tr>\n",
       "      <th>...</th>\n",
       "      <td>...</td>\n",
       "      <td>...</td>\n",
       "      <td>...</td>\n",
       "      <td>...</td>\n",
       "      <td>...</td>\n",
       "      <td>...</td>\n",
       "      <td>...</td>\n",
       "    </tr>\n",
       "    <tr>\n",
       "      <th>923275080</th>\n",
       "      <td>Mitchel</td>\n",
       "      <td>1984</td>\n",
       "      <td>6</td>\n",
       "      <td>TA</td>\n",
       "      <td>TA</td>\n",
       "      <td>7937</td>\n",
       "      <td>142500</td>\n",
       "    </tr>\n",
       "    <tr>\n",
       "      <th>923276100</th>\n",
       "      <td>Mitchel</td>\n",
       "      <td>1983</td>\n",
       "      <td>5</td>\n",
       "      <td>TA</td>\n",
       "      <td>TA</td>\n",
       "      <td>8885</td>\n",
       "      <td>131000</td>\n",
       "    </tr>\n",
       "    <tr>\n",
       "      <th>923400125</th>\n",
       "      <td>Mitchel</td>\n",
       "      <td>1992</td>\n",
       "      <td>5</td>\n",
       "      <td>TA</td>\n",
       "      <td>TA</td>\n",
       "      <td>10441</td>\n",
       "      <td>132000</td>\n",
       "    </tr>\n",
       "    <tr>\n",
       "      <th>924100070</th>\n",
       "      <td>Mitchel</td>\n",
       "      <td>1974</td>\n",
       "      <td>5</td>\n",
       "      <td>TA</td>\n",
       "      <td>TA</td>\n",
       "      <td>10010</td>\n",
       "      <td>170000</td>\n",
       "    </tr>\n",
       "    <tr>\n",
       "      <th>924151050</th>\n",
       "      <td>Mitchel</td>\n",
       "      <td>1993</td>\n",
       "      <td>7</td>\n",
       "      <td>TA</td>\n",
       "      <td>TA</td>\n",
       "      <td>9627</td>\n",
       "      <td>188000</td>\n",
       "    </tr>\n",
       "  </tbody>\n",
       "</table>\n",
       "<p>2930 rows × 7 columns</p>\n",
       "</div>"
      ],
      "text/plain": [
       "          Neighborhood  Year Built  Overall Qual Kitchen Qual Exter Qual  \\\n",
       "PID                                                                        \n",
       "526301100        NAmes        1960             6           TA         TA   \n",
       "526350040        NAmes        1961             5           TA         TA   \n",
       "526351010        NAmes        1958             6           Gd         TA   \n",
       "526353030        NAmes        1968             7           Ex         Gd   \n",
       "527105010      Gilbert        1997             5           TA         TA   \n",
       "...                ...         ...           ...          ...        ...   \n",
       "923275080      Mitchel        1984             6           TA         TA   \n",
       "923276100      Mitchel        1983             5           TA         TA   \n",
       "923400125      Mitchel        1992             5           TA         TA   \n",
       "924100070      Mitchel        1974             5           TA         TA   \n",
       "924151050      Mitchel        1993             7           TA         TA   \n",
       "\n",
       "           Lot Area  SalePrice  \n",
       "PID                             \n",
       "526301100     31770     215000  \n",
       "526350040     11622     105000  \n",
       "526351010     14267     172000  \n",
       "526353030     11160     244000  \n",
       "527105010     13830     189900  \n",
       "...             ...        ...  \n",
       "923275080      7937     142500  \n",
       "923276100      8885     131000  \n",
       "923400125     10441     132000  \n",
       "924100070     10010     170000  \n",
       "924151050      9627     188000  \n",
       "\n",
       "[2930 rows x 7 columns]"
      ]
     },
     "execution_count": 2,
     "metadata": {},
     "output_type": "execute_result"
    }
   ],
   "source": [
    "# display first 10 rows of the data set\n",
    "df = pd.read_csv('Ames_Housing_Subset.csv', index_col=0)\n",
    "df"
   ]
  },
  {
   "cell_type": "code",
   "execution_count": 3,
   "id": "12712ace-89dd-4013-9b68-9b4a3e6cf33b",
   "metadata": {},
   "outputs": [
    {
     "data": {
      "text/html": [
       "<div>\n",
       "<style scoped>\n",
       "    .dataframe tbody tr th:only-of-type {\n",
       "        vertical-align: middle;\n",
       "    }\n",
       "\n",
       "    .dataframe tbody tr th {\n",
       "        vertical-align: top;\n",
       "    }\n",
       "\n",
       "    .dataframe thead th {\n",
       "        text-align: right;\n",
       "    }\n",
       "</style>\n",
       "<table border=\"1\" class=\"dataframe\">\n",
       "  <thead>\n",
       "    <tr style=\"text-align: right;\">\n",
       "      <th></th>\n",
       "      <th>Neighborhood</th>\n",
       "      <th>Year Built</th>\n",
       "      <th>Overall Qual</th>\n",
       "      <th>Kitchen Qual</th>\n",
       "      <th>Exter Qual</th>\n",
       "      <th>Lot Area</th>\n",
       "      <th>SalePrice</th>\n",
       "    </tr>\n",
       "    <tr>\n",
       "      <th>PID</th>\n",
       "      <th></th>\n",
       "      <th></th>\n",
       "      <th></th>\n",
       "      <th></th>\n",
       "      <th></th>\n",
       "      <th></th>\n",
       "      <th></th>\n",
       "    </tr>\n",
       "  </thead>\n",
       "  <tbody>\n",
       "    <tr>\n",
       "      <th>526301100</th>\n",
       "      <td>NAmes</td>\n",
       "      <td>1960</td>\n",
       "      <td>6</td>\n",
       "      <td>TA</td>\n",
       "      <td>TA</td>\n",
       "      <td>31770</td>\n",
       "      <td>215000</td>\n",
       "    </tr>\n",
       "    <tr>\n",
       "      <th>526350040</th>\n",
       "      <td>NAmes</td>\n",
       "      <td>1961</td>\n",
       "      <td>5</td>\n",
       "      <td>TA</td>\n",
       "      <td>TA</td>\n",
       "      <td>11622</td>\n",
       "      <td>105000</td>\n",
       "    </tr>\n",
       "    <tr>\n",
       "      <th>526351010</th>\n",
       "      <td>NAmes</td>\n",
       "      <td>1958</td>\n",
       "      <td>6</td>\n",
       "      <td>Gd</td>\n",
       "      <td>TA</td>\n",
       "      <td>14267</td>\n",
       "      <td>172000</td>\n",
       "    </tr>\n",
       "    <tr>\n",
       "      <th>526353030</th>\n",
       "      <td>NAmes</td>\n",
       "      <td>1968</td>\n",
       "      <td>7</td>\n",
       "      <td>Ex</td>\n",
       "      <td>Gd</td>\n",
       "      <td>11160</td>\n",
       "      <td>244000</td>\n",
       "    </tr>\n",
       "    <tr>\n",
       "      <th>527105010</th>\n",
       "      <td>Gilbert</td>\n",
       "      <td>1997</td>\n",
       "      <td>5</td>\n",
       "      <td>TA</td>\n",
       "      <td>TA</td>\n",
       "      <td>13830</td>\n",
       "      <td>189900</td>\n",
       "    </tr>\n",
       "    <tr>\n",
       "      <th>527105030</th>\n",
       "      <td>Gilbert</td>\n",
       "      <td>1998</td>\n",
       "      <td>6</td>\n",
       "      <td>Gd</td>\n",
       "      <td>TA</td>\n",
       "      <td>9978</td>\n",
       "      <td>195500</td>\n",
       "    </tr>\n",
       "    <tr>\n",
       "      <th>527127150</th>\n",
       "      <td>StoneBr</td>\n",
       "      <td>2001</td>\n",
       "      <td>8</td>\n",
       "      <td>Gd</td>\n",
       "      <td>Gd</td>\n",
       "      <td>4920</td>\n",
       "      <td>213500</td>\n",
       "    </tr>\n",
       "    <tr>\n",
       "      <th>527145080</th>\n",
       "      <td>StoneBr</td>\n",
       "      <td>1992</td>\n",
       "      <td>8</td>\n",
       "      <td>Gd</td>\n",
       "      <td>Gd</td>\n",
       "      <td>5005</td>\n",
       "      <td>191500</td>\n",
       "    </tr>\n",
       "    <tr>\n",
       "      <th>527146030</th>\n",
       "      <td>StoneBr</td>\n",
       "      <td>1995</td>\n",
       "      <td>8</td>\n",
       "      <td>Gd</td>\n",
       "      <td>Gd</td>\n",
       "      <td>5389</td>\n",
       "      <td>236500</td>\n",
       "    </tr>\n",
       "    <tr>\n",
       "      <th>527162130</th>\n",
       "      <td>Gilbert</td>\n",
       "      <td>1999</td>\n",
       "      <td>7</td>\n",
       "      <td>Gd</td>\n",
       "      <td>TA</td>\n",
       "      <td>7500</td>\n",
       "      <td>189000</td>\n",
       "    </tr>\n",
       "  </tbody>\n",
       "</table>\n",
       "</div>"
      ],
      "text/plain": [
       "          Neighborhood  Year Built  Overall Qual Kitchen Qual Exter Qual  \\\n",
       "PID                                                                        \n",
       "526301100        NAmes        1960             6           TA         TA   \n",
       "526350040        NAmes        1961             5           TA         TA   \n",
       "526351010        NAmes        1958             6           Gd         TA   \n",
       "526353030        NAmes        1968             7           Ex         Gd   \n",
       "527105010      Gilbert        1997             5           TA         TA   \n",
       "527105030      Gilbert        1998             6           Gd         TA   \n",
       "527127150      StoneBr        2001             8           Gd         Gd   \n",
       "527145080      StoneBr        1992             8           Gd         Gd   \n",
       "527146030      StoneBr        1995             8           Gd         Gd   \n",
       "527162130      Gilbert        1999             7           Gd         TA   \n",
       "\n",
       "           Lot Area  SalePrice  \n",
       "PID                             \n",
       "526301100     31770     215000  \n",
       "526350040     11622     105000  \n",
       "526351010     14267     172000  \n",
       "526353030     11160     244000  \n",
       "527105010     13830     189900  \n",
       "527105030      9978     195500  \n",
       "527127150      4920     213500  \n",
       "527145080      5005     191500  \n",
       "527146030      5389     236500  \n",
       "527162130      7500     189000  "
      ]
     },
     "execution_count": 3,
     "metadata": {},
     "output_type": "execute_result"
    }
   ],
   "source": [
    "# display first 10 rows of the data set\n",
    "df.head(10)"
   ]
  },
  {
   "cell_type": "code",
   "execution_count": 4,
   "id": "38255670-d12e-41da-a86a-4ee0d29f3436",
   "metadata": {},
   "outputs": [
    {
     "data": {
      "text/html": [
       "<div>\n",
       "<style scoped>\n",
       "    .dataframe tbody tr th:only-of-type {\n",
       "        vertical-align: middle;\n",
       "    }\n",
       "\n",
       "    .dataframe tbody tr th {\n",
       "        vertical-align: top;\n",
       "    }\n",
       "\n",
       "    .dataframe thead th {\n",
       "        text-align: right;\n",
       "    }\n",
       "</style>\n",
       "<table border=\"1\" class=\"dataframe\">\n",
       "  <thead>\n",
       "    <tr style=\"text-align: right;\">\n",
       "      <th></th>\n",
       "      <th>Neighborhood</th>\n",
       "      <th>Year Built</th>\n",
       "      <th>Overall Qual</th>\n",
       "      <th>Kitchen Qual</th>\n",
       "      <th>Exter Qual</th>\n",
       "      <th>Lot Area</th>\n",
       "      <th>SalePrice</th>\n",
       "    </tr>\n",
       "    <tr>\n",
       "      <th>PID</th>\n",
       "      <th></th>\n",
       "      <th></th>\n",
       "      <th></th>\n",
       "      <th></th>\n",
       "      <th></th>\n",
       "      <th></th>\n",
       "      <th></th>\n",
       "    </tr>\n",
       "  </thead>\n",
       "  <tbody>\n",
       "    <tr>\n",
       "      <th>923228310</th>\n",
       "      <td>MeadowV</td>\n",
       "      <td>1970</td>\n",
       "      <td>4</td>\n",
       "      <td>TA</td>\n",
       "      <td>TA</td>\n",
       "      <td>1894</td>\n",
       "      <td>71000</td>\n",
       "    </tr>\n",
       "    <tr>\n",
       "      <th>923229110</th>\n",
       "      <td>Mitchel</td>\n",
       "      <td>1976</td>\n",
       "      <td>6</td>\n",
       "      <td>TA</td>\n",
       "      <td>TA</td>\n",
       "      <td>12640</td>\n",
       "      <td>150900</td>\n",
       "    </tr>\n",
       "    <tr>\n",
       "      <th>923230040</th>\n",
       "      <td>Mitchel</td>\n",
       "      <td>1976</td>\n",
       "      <td>5</td>\n",
       "      <td>TA</td>\n",
       "      <td>TA</td>\n",
       "      <td>9297</td>\n",
       "      <td>188000</td>\n",
       "    </tr>\n",
       "    <tr>\n",
       "      <th>923250060</th>\n",
       "      <td>Mitchel</td>\n",
       "      <td>1977</td>\n",
       "      <td>5</td>\n",
       "      <td>TA</td>\n",
       "      <td>TA</td>\n",
       "      <td>17400</td>\n",
       "      <td>160000</td>\n",
       "    </tr>\n",
       "    <tr>\n",
       "      <th>923251180</th>\n",
       "      <td>Mitchel</td>\n",
       "      <td>1960</td>\n",
       "      <td>5</td>\n",
       "      <td>TA</td>\n",
       "      <td>TA</td>\n",
       "      <td>20000</td>\n",
       "      <td>131000</td>\n",
       "    </tr>\n",
       "    <tr>\n",
       "      <th>923275080</th>\n",
       "      <td>Mitchel</td>\n",
       "      <td>1984</td>\n",
       "      <td>6</td>\n",
       "      <td>TA</td>\n",
       "      <td>TA</td>\n",
       "      <td>7937</td>\n",
       "      <td>142500</td>\n",
       "    </tr>\n",
       "    <tr>\n",
       "      <th>923276100</th>\n",
       "      <td>Mitchel</td>\n",
       "      <td>1983</td>\n",
       "      <td>5</td>\n",
       "      <td>TA</td>\n",
       "      <td>TA</td>\n",
       "      <td>8885</td>\n",
       "      <td>131000</td>\n",
       "    </tr>\n",
       "    <tr>\n",
       "      <th>923400125</th>\n",
       "      <td>Mitchel</td>\n",
       "      <td>1992</td>\n",
       "      <td>5</td>\n",
       "      <td>TA</td>\n",
       "      <td>TA</td>\n",
       "      <td>10441</td>\n",
       "      <td>132000</td>\n",
       "    </tr>\n",
       "    <tr>\n",
       "      <th>924100070</th>\n",
       "      <td>Mitchel</td>\n",
       "      <td>1974</td>\n",
       "      <td>5</td>\n",
       "      <td>TA</td>\n",
       "      <td>TA</td>\n",
       "      <td>10010</td>\n",
       "      <td>170000</td>\n",
       "    </tr>\n",
       "    <tr>\n",
       "      <th>924151050</th>\n",
       "      <td>Mitchel</td>\n",
       "      <td>1993</td>\n",
       "      <td>7</td>\n",
       "      <td>TA</td>\n",
       "      <td>TA</td>\n",
       "      <td>9627</td>\n",
       "      <td>188000</td>\n",
       "    </tr>\n",
       "  </tbody>\n",
       "</table>\n",
       "</div>"
      ],
      "text/plain": [
       "          Neighborhood  Year Built  Overall Qual Kitchen Qual Exter Qual  \\\n",
       "PID                                                                        \n",
       "923228310      MeadowV        1970             4           TA         TA   \n",
       "923229110      Mitchel        1976             6           TA         TA   \n",
       "923230040      Mitchel        1976             5           TA         TA   \n",
       "923250060      Mitchel        1977             5           TA         TA   \n",
       "923251180      Mitchel        1960             5           TA         TA   \n",
       "923275080      Mitchel        1984             6           TA         TA   \n",
       "923276100      Mitchel        1983             5           TA         TA   \n",
       "923400125      Mitchel        1992             5           TA         TA   \n",
       "924100070      Mitchel        1974             5           TA         TA   \n",
       "924151050      Mitchel        1993             7           TA         TA   \n",
       "\n",
       "           Lot Area  SalePrice  \n",
       "PID                             \n",
       "923228310      1894      71000  \n",
       "923229110     12640     150900  \n",
       "923230040      9297     188000  \n",
       "923250060     17400     160000  \n",
       "923251180     20000     131000  \n",
       "923275080      7937     142500  \n",
       "923276100      8885     131000  \n",
       "923400125     10441     132000  \n",
       "924100070     10010     170000  \n",
       "924151050      9627     188000  "
      ]
     },
     "execution_count": 4,
     "metadata": {},
     "output_type": "execute_result"
    }
   ],
   "source": [
    "# display last 10 rows of the data set\n",
    "df.tail(10)"
   ]
  },
  {
   "cell_type": "code",
   "execution_count": 5,
   "id": "78e50014-73c5-428f-9ea7-fa536036d4d0",
   "metadata": {},
   "outputs": [
    {
     "data": {
      "text/plain": [
       "(2930, 7)"
      ]
     },
     "execution_count": 5,
     "metadata": {},
     "output_type": "execute_result"
    }
   ],
   "source": [
    "df.shape"
   ]
  },
  {
   "cell_type": "code",
   "execution_count": 6,
   "id": "2fb5b56f-876c-4199-80a9-ab13f1edd706",
   "metadata": {},
   "outputs": [
    {
     "name": "stdout",
     "output_type": "stream",
     "text": [
      "PID: Property ID of the house\n",
      "\n",
      "Neighborhood: Physical locations within Ames city limits\n",
      "\n",
      "       Blmngtn\tBloomington Heights\n",
      "       Blueste\tBluestem\n",
      "       BrDale\tBriardale\n",
      "       BrkSide\tBrookside\n",
      "       ClearCr\tClear Creek\n",
      "       CollgCr\tCollege Creek\n",
      "       Crawfor\tCrawford\n",
      "       Edwards\tEdwards\n",
      "       Gilbert\tGilbert\n",
      "       IDOTRR\tIowa DOT and Rail Road\n",
      "       MeadowV\tMeadow Village\n",
      "       Mitchel\tMitchell\n",
      "       Names\tNorth Ames\n",
      "       NoRidge\tNorthridge\n",
      "       NPkVill\tNorthpark Villa\n",
      "       NridgHt\tNorthridge Heights\n",
      "       NWAmes\tNorthwest Ames\n",
      "       OldTown\tOld Town\n",
      "       SWISU\tSouth & West of Iowa State University\n",
      "       Sawyer\tSawyer\n",
      "       SawyerW\tSawyer West\n",
      "       Somerst\tSomerset\n",
      "       StoneBr\tStone Brook\n",
      "       Timber\tTimberland\n",
      "       Veenker\tVeenker\n",
      "\n",
      "Year Built: Original construction date\n",
      "\n",
      "Overall Qual: Rates the overall material and finish of the house\n",
      "\n",
      "       10\tVery Excellent\n",
      "       9\tExcellent\n",
      "       8\tVery Good\n",
      "       7\tGood\n",
      "       6\tAbove Average\n",
      "       5\tAverage\n",
      "       4\tBelow Average\n",
      "       3\tFair\n",
      "       2\tPoor\n",
      "       1\tVery Poor\n",
      "\n",
      "Kitchen Qual: Quality of the kitchen\n",
      "\n",
      "       Ex\tExcellent\n",
      "       Gd\tGood\n",
      "       TA\tTypical/Average\n",
      "       Fa\tFair\n",
      "       Po\tPoor\n",
      "\n",
      "Exter Qual: Quality of exterior material of the house\n",
      "\t\t\n",
      "       Ex\tExcellent\n",
      "       Gd\tGood\n",
      "       TA\tAverage/Typical\n",
      "       Fa\tFair\n",
      "       Po\tPoor\n",
      "\n",
      "LotArea: Lot size in square feet\n",
      "\n",
      "SalePrice: Selling price of the propery in dollars\n"
     ]
    }
   ],
   "source": [
    "# Studying the descriptive of the data \n",
    "with open('Ames_Housing_Subset_Feature_Description.txt', 'r') as f:\n",
    "    print(f.read())"
   ]
  },
  {
   "cell_type": "code",
   "execution_count": 7,
   "id": "37070a24-7021-4f58-a9f3-d70f13895a48",
   "metadata": {},
   "outputs": [
    {
     "data": {
      "text/plain": [
       "Index([526301100, 526350040, 526351010, 526353030, 527105010, 527105030,\n",
       "       527127150, 527145080, 527146030, 527162130,\n",
       "       ...\n",
       "       923228310, 923229110, 923230040, 923250060, 923251180, 923275080,\n",
       "       923276100, 923400125, 924100070, 924151050],\n",
       "      dtype='int64', name='PID', length=2930)"
      ]
     },
     "execution_count": 7,
     "metadata": {},
     "output_type": "execute_result"
    }
   ],
   "source": [
    " # Getting the row names of the data frame using \".index\"\n",
    "df.index"
   ]
  },
  {
   "cell_type": "code",
   "execution_count": 8,
   "id": "77b4a764-b4be-4a46-8f72-6aeb493885c9",
   "metadata": {},
   "outputs": [
    {
     "data": {
      "text/plain": [
       "Index(['Neighborhood', 'Year Built', 'Overall Qual', 'Kitchen Qual',\n",
       "       'Exter Qual', 'Lot Area', 'SalePrice'],\n",
       "      dtype='object')"
      ]
     },
     "execution_count": 8,
     "metadata": {},
     "output_type": "execute_result"
    }
   ],
   "source": [
    "# Getting the column names of the data frame using \".columns\"\n",
    "df.columns\n"
   ]
  },
  {
   "cell_type": "code",
   "execution_count": 9,
   "id": "61dd81a8-dade-48d1-9def-595edea15845",
   "metadata": {},
   "outputs": [
    {
     "name": "stdout",
     "output_type": "stream",
     "text": [
      "<class 'pandas.core.frame.DataFrame'>\n",
      "Index: 2930 entries, 526301100 to 924151050\n",
      "Data columns (total 7 columns):\n",
      " #   Column        Non-Null Count  Dtype \n",
      "---  ------        --------------  ----- \n",
      " 0   Neighborhood  2930 non-null   object\n",
      " 1   Year Built    2930 non-null   int64 \n",
      " 2   Overall Qual  2930 non-null   int64 \n",
      " 3   Kitchen Qual  2930 non-null   object\n",
      " 4   Exter Qual    2930 non-null   object\n",
      " 5   Lot Area      2930 non-null   int64 \n",
      " 6   SalePrice     2930 non-null   int64 \n",
      "dtypes: int64(4), object(3)\n",
      "memory usage: 183.1+ KB\n"
     ]
    }
   ],
   "source": [
    "# Looking at the basic information about the data frame using \".info()\"\n",
    "df.info()"
   ]
  },
  {
   "cell_type": "code",
   "execution_count": 10,
   "id": "c804a790-efe9-4095-af5a-71cb73aa607c",
   "metadata": {},
   "outputs": [
    {
     "data": {
      "text/plain": [
       "Neighborhood    0\n",
       "Year Built      0\n",
       "Overall Qual    0\n",
       "Kitchen Qual    0\n",
       "Exter Qual      0\n",
       "Lot Area        0\n",
       "SalePrice       0\n",
       "dtype: int64"
      ]
     },
     "execution_count": 10,
     "metadata": {},
     "output_type": "execute_result"
    }
   ],
   "source": [
    "# Getting the number of missing values for the complete data frame using \".isnull()\" and \".sum()\"\n",
    "df.isnull().sum()"
   ]
  },
  {
   "cell_type": "code",
   "execution_count": 11,
   "id": "6899bda4-daee-434f-91ab-0e6245e23a8d",
   "metadata": {},
   "outputs": [
    {
     "data": {
      "text/plain": [
       "([0,\n",
       "  1,\n",
       "  2,\n",
       "  3,\n",
       "  4,\n",
       "  5,\n",
       "  6,\n",
       "  7,\n",
       "  8,\n",
       "  9,\n",
       "  10,\n",
       "  11,\n",
       "  12,\n",
       "  13,\n",
       "  14,\n",
       "  15,\n",
       "  16,\n",
       "  17,\n",
       "  18,\n",
       "  19,\n",
       "  20,\n",
       "  21,\n",
       "  22,\n",
       "  23,\n",
       "  24,\n",
       "  25,\n",
       "  26,\n",
       "  27],\n",
       " [Text(0, 0, 'NAmes'),\n",
       "  Text(1, 0, 'Gilbert'),\n",
       "  Text(2, 0, 'StoneBr'),\n",
       "  Text(3, 0, 'NWAmes'),\n",
       "  Text(4, 0, 'Somerst'),\n",
       "  Text(5, 0, 'BrDale'),\n",
       "  Text(6, 0, 'NPkVill'),\n",
       "  Text(7, 0, 'NridgHt'),\n",
       "  Text(8, 0, 'Blmngtn'),\n",
       "  Text(9, 0, 'NoRidge'),\n",
       "  Text(10, 0, 'SawyerW'),\n",
       "  Text(11, 0, 'Sawyer'),\n",
       "  Text(12, 0, 'Greens'),\n",
       "  Text(13, 0, 'BrkSide'),\n",
       "  Text(14, 0, 'OldTown'),\n",
       "  Text(15, 0, 'IDOTRR'),\n",
       "  Text(16, 0, 'ClearCr'),\n",
       "  Text(17, 0, 'SWISU'),\n",
       "  Text(18, 0, 'Edwards'),\n",
       "  Text(19, 0, 'CollgCr'),\n",
       "  Text(20, 0, 'Crawfor'),\n",
       "  Text(21, 0, 'Blueste'),\n",
       "  Text(22, 0, 'Mitchel'),\n",
       "  Text(23, 0, 'Timber'),\n",
       "  Text(24, 0, 'MeadowV'),\n",
       "  Text(25, 0, 'Veenker'),\n",
       "  Text(26, 0, 'GrnHill'),\n",
       "  Text(27, 0, 'Landmrk')])"
      ]
     },
     "execution_count": 11,
     "metadata": {},
     "output_type": "execute_result"
    },
    {
     "data": {
      "image/png": "[encoded data removed]",
      "text/plain": [
       "<Figure size 900x300 with 1 Axes>"
      ]
     },
     "metadata": {},
     "output_type": "display_data"
    }
   ],
   "source": [
    "# Creating a count plot of the \"Neighborhood\" feature\n",
    "plt.figure(figsize = (9, 3), dpi= 100)\n",
    "sns.countplot(data = df, x = 'Neighborhood')\n",
    "plt.title('Count Plot of Number of Houses Based on Neighborhood')\n",
    "plt.xlabel('Neighborhood')\n",
    "plt.ylabel('Count')\n",
    "plt.xticks(rotation = 90)\n"
   ]
  },
  {
   "cell_type": "code",
   "execution_count": 12,
   "id": "d14295aa-1054-4218-8916-042a04f09cf1",
   "metadata": {},
   "outputs": [
    {
     "name": "stdout",
     "output_type": "stream",
     "text": [
      "1872\n",
      "2010\n"
     ]
    }
   ],
   "source": [
    "# Check the minimum and maximum values of year built\n",
    "print(df['Year Built'].min())\n",
    "print(df['Year Built'].max())"
   ]
  },
  {
   "cell_type": "code",
   "execution_count": 13,
   "id": "d1d523ed-5773-4851-b21d-eac2c1a21530",
   "metadata": {},
   "outputs": [
    {
     "name": "stdout",
     "output_type": "stream",
     "text": [
      "180796.0600682594\n",
      "160000.0\n",
      "0    135000\n",
      "Name: SalePrice, dtype: int64\n"
     ]
    }
   ],
   "source": [
    "# Check the mean,median and mode sale price\n",
    "print(df['SalePrice'].mean())\n",
    "print(df['SalePrice'].median())\n",
    "print(df['SalePrice'].mode())"
   ]
  },
  {
   "cell_type": "code",
   "execution_count": 14,
   "id": "d591b095-934f-45c4-8a99-78c877dce549",
   "metadata": {},
   "outputs": [
    {
     "data": {
      "text/plain": [
       "<function matplotlib.pyplot.show(close=None, block=None)>"
      ]
     },
     "execution_count": 14,
     "metadata": {},
     "output_type": "execute_result"
    },
    {
     "data": {
      "image/png": "[encoded data removed]",
      "text/plain": [
       "<Figure size 640x480 with 1 Axes>"
      ]
     },
     "metadata": {},
     "output_type": "display_data"
    }
   ],
   "source": [
    " # Creating a histogram of the \"Year Built\" feature and also showing the mean and the median\n",
    "\n",
    "sns.histplot(data=df, x='Year Built', color='Orange', edgecolor='yellow')\n",
    "plt.vlines(x=df['Year Built'].mean(), ymin=0,ymax=575, colors='b', label='Mean')\n",
    "plt.vlines(x=df['Year Built'].median(), ymin=0,ymax=575, colors='k', label='Median')\n",
    "plt.vlines(x=df['Year Built'].mode(), ymin=0,ymax=575, colors='r', label='Mode')\n",
    "plt.show"
   ]
  },
  {
   "cell_type": "code",
   "execution_count": 15,
   "id": "2e96899e-4257-40d1-8323-aca28a1f5de1",
   "metadata": {},
   "outputs": [
    {
     "data": {
      "text/plain": [
       "<matplotlib.legend.Legend at 0x22d49a3f0d0>"
      ]
     },
     "execution_count": 15,
     "metadata": {},
     "output_type": "execute_result"
    },
    {
     "data": {
      "image/png": "[encoded data removed]",
      "text/plain": [
       "<Figure size 900x300 with 1 Axes>"
      ]
     },
     "metadata": {},
     "output_type": "display_data"
    }
   ],
   "source": [
    "# Customization\n",
    "plt.figure(figsize = (9, 3), dpi= 100)\n",
    "sns.histplot(data = df, x = 'Year Built', color = 'orange', edgecolor = 'linen', alpha = 0.5)\n",
    "plt.title('Histogram of Years in Which Houses Were Built')\n",
    "plt.xlabel('Year in Which House was Built')\n",
    "plt.ylabel('Count')\n",
    "plt.vlines(x = df['Year Built'].mean(), ymin = 0, ymax = 575, colors = 'blue', label = 'Mean')\n",
    "plt.vlines(x = df['Year Built'].median(), ymin = 0, ymax = 575, colors = 'red', label = 'Median')\n",
    "plt.legend(loc = 'upper left')"
   ]
  },
  {
   "cell_type": "code",
   "execution_count": 16,
   "id": "8a4098ac-2ac1-4efa-9fac-248d8a44fd12",
   "metadata": {},
   "outputs": [
    {
     "data": {
      "text/plain": [
       "Text(0.5, 0, 'Year in Which House was Built')"
      ]
     },
     "execution_count": 16,
     "metadata": {},
     "output_type": "execute_result"
    },
    {
     "data": {
      "image/png": "[encoded data removed]",
      "text/plain": [
       "<Figure size 900x300 with 1 Axes>"
      ]
     },
     "metadata": {},
     "output_type": "display_data"
    }
   ],
   "source": [
    "# Creating a box plot of the \"Year Built\" feature\n",
    "plt.figure(figsize = (9, 3), dpi= 100)\n",
    "sns.boxplot(data = df, x = 'Year Built', color = 'linen')\n",
    "plt.title('Box Plot of Year in Which Houses Were Built')\n",
    "plt.xlabel('Year in Which House was Built')"
   ]
  },
  {
   "cell_type": "code",
   "execution_count": 17,
   "id": "54d60bd5-ee51-481c-b29e-501eab820079",
   "metadata": {},
   "outputs": [
    {
     "name": "stdout",
     "output_type": "stream",
     "text": [
      "12789\n",
      "755000\n"
     ]
    }
   ],
   "source": [
    "# Check the minimum and maximum values of Sale Price\n",
    "print(df['SalePrice'].min())\n",
    "print(df['SalePrice'].max())"
   ]
  },
  {
   "cell_type": "code",
   "execution_count": 18,
   "id": "3914255d-fd57-4f21-8d85-74ff4395bb4c",
   "metadata": {},
   "outputs": [
    {
     "name": "stdout",
     "output_type": "stream",
     "text": [
      "180796.0600682594\n",
      "160000.0\n"
     ]
    }
   ],
   "source": [
    "# Range of sale price\n",
    "print(df['SalePrice'].mean())\n",
    "print(df['SalePrice'].median())"
   ]
  },
  {
   "cell_type": "code",
   "execution_count": 19,
   "id": "e55f1ed5-f82c-45d2-b3ec-0ba345c84724",
   "metadata": {},
   "outputs": [
    {
     "data": {
      "text/plain": [
       "<function matplotlib.pyplot.show(close=None, block=None)>"
      ]
     },
     "execution_count": 19,
     "metadata": {},
     "output_type": "execute_result"
    },
    {
     "data": {
      "image/png": "[encoded data removed]",
      "text/plain": [
       "<Figure size 640x480 with 1 Axes>"
      ]
     },
     "metadata": {},
     "output_type": "display_data"
    }
   ],
   "source": [
    "# Creating a histogram of the \"SalePrice\" feature and also showing the mean,mode and the median\n",
    "sns.histplot(data=df, x='SalePrice', color='Orange', edgecolor='yellow')\n",
    "plt.vlines(x=df['SalePrice'].mean(), ymin=0,ymax=325, colors='b', label='Mean')\n",
    "plt.vlines(x=df['SalePrice'].median(), ymin=0,ymax=325, colors='k', label='Median')\n",
    "plt.vlines(x=df['SalePrice'].mode(), ymin=0,ymax=325, colors='r', label='Mode')\n",
    "plt.show"
   ]
  },
  {
   "cell_type": "markdown",
   "id": "52055e79-8bd9-4ef6-8c6d-71db2a917d8c",
   "metadata": {},
   "source": [
    "1. box pot for year built\n",
    "2. check max and min of sale price\n",
    "3. range of sale price\n",
    "4. create a histogram of sale price also showing mean, median and mode\n",
    "5. box plot for sale price\n",
    "6. create a histogram, box plot of lot area also showing mean, median and mode\n",
    "7. scatter plot of lot area and sale price\n",
    "8. Create a new feature (column) called Price per Area in the data frame to contain ratio of \"SalePrice\" and \"Lot Area\" features\n",
    "9. Check if the new column is created using head()\n",
    "10. Create a histogram, box plot of the \"Price per Area\" feature and also showing the mean and the median\n",
    "11. Create a scatter plot between lot area and price per area"
   ]
  },
  {
   "cell_type": "code",
   "execution_count": 20,
   "id": "6a8873f4-aa2d-49a7-9fe8-a64b5fe98747",
   "metadata": {},
   "outputs": [
    {
     "data": {
      "text/plain": [
       "Text(0.5, 0, 'Selling Price of House in dollars')"
      ]
     },
     "execution_count": 20,
     "metadata": {},
     "output_type": "execute_result"
    },
    {
     "data": {
      "image/png": "[encoded data removed]",
      "text/plain": [
       "<Figure size 900x300 with 1 Axes>"
      ]
     },
     "metadata": {},
     "output_type": "display_data"
    }
   ],
   "source": [
    "# Creating a box plot of the \"SalePrice\" feature\n",
    "plt.figure(figsize = (9, 3), dpi= 100)\n",
    "sns.boxplot(data = df, x = 'SalePrice', color = 'linen')\n",
    "plt.title('Box Plot of Selling Price of Houses')\n",
    "plt.xlabel('Selling Price of House in dollars')"
   ]
  },
  {
   "cell_type": "code",
   "execution_count": 21,
   "id": "6fa77658-273d-4922-915f-4c5277d8ca10",
   "metadata": {},
   "outputs": [
    {
     "data": {
      "text/plain": [
       "<matplotlib.legend.Legend at 0x22d4a109d10>"
      ]
     },
     "execution_count": 21,
     "metadata": {},
     "output_type": "execute_result"
    },
    {
     "data": {
      "image/png": "[encoded data removed]",
      "text/plain": [
       "<Figure size 900x300 with 1 Axes>"
      ]
     },
     "metadata": {},
     "output_type": "display_data"
    }
   ],
   "source": [
    "# Creating a histogram of the \"Lot Area\" feature and also showing the mean and the median\n",
    "plt.figure(figsize = (9, 3), dpi= 100)\n",
    "sns.histplot(data = df, x = 'Lot Area', color = 'orange', edgecolor = 'linen', alpha = 0.5)\n",
    "plt.title('Histogram of Lot Area of Houses')\n",
    "plt.xlabel('Lot Area of House in square feet')\n",
    "plt.ylabel('Count')\n",
    "plt.vlines(x = df['Lot Area'].mean(), ymin = 0, ymax = 250, colors = 'blue', label = 'Mean')\n",
    "plt.vlines(x = df['Lot Area'].median(), ymin = 0, ymax = 250, colors = 'red', label = 'Median')\n",
    "plt.legend()"
   ]
  },
  {
   "cell_type": "code",
   "execution_count": 22,
   "id": "6e3ec893-a3c7-4905-a822-f45472a4e708",
   "metadata": {},
   "outputs": [
    {
     "data": {
      "text/plain": [
       "Text(0.5, 0, 'Lot Area of House in square feet')"
      ]
     },
     "execution_count": 22,
     "metadata": {},
     "output_type": "execute_result"
    },
    {
     "data": {
      "image/png": "[encoded data removed]",
      "text/plain": [
       "<Figure size 900x300 with 1 Axes>"
      ]
     },
     "metadata": {},
     "output_type": "display_data"
    }
   ],
   "source": [
    "# Creating a box plot of the \"Lot Area\" feature\n",
    "plt.figure(figsize = (9, 3), dpi= 100)\n",
    "sns.boxplot(data = df, x = 'Lot Area', color = 'linen')\n",
    "plt.title('Box Plot of Lot Area of Houses')\n",
    "plt.xlabel('Lot Area of House in square feet')"
   ]
  },
  {
   "cell_type": "code",
   "execution_count": 23,
   "id": "6e2ce7ab-e2c8-4b4c-abfb-8b6b3159b0f7",
   "metadata": {},
   "outputs": [
    {
     "data": {
      "text/plain": [
       "Text(0, 0.5, 'Selling Price of House in dollars')"
      ]
     },
     "execution_count": 23,
     "metadata": {},
     "output_type": "execute_result"
    },
    {
     "data": {
      "image/png": "[encoded data removed]",
      "text/plain": [
       "<Figure size 900x300 with 1 Axes>"
      ]
     },
     "metadata": {},
     "output_type": "display_data"
    }
   ],
   "source": [
    "# Creating a scatter plot of the \"Lot Area\" and \"SalePrice\" features\n",
    "plt.figure(figsize = (9, 3), dpi= 100)\n",
    "sns.scatterplot(data = df, x = 'Lot Area', y = 'SalePrice', alpha = 0.5)\n",
    "plt.title('Scatter Plot of Selling Price of Houses With Respect to Lot Area')\n",
    "plt.xlabel('Lot Area of House in square feet')\n",
    "plt.ylabel('Selling Price of House in dollars')"
   ]
  },
  {
   "cell_type": "code",
   "execution_count": 24,
   "id": "66339d7a-58e4-435e-8d80-e16ba2ed102e",
   "metadata": {},
   "outputs": [],
   "source": [
    "# Creating a new feature in the data frame to contain ratio of \"SalePrice\" and \"Lot Area\" features\n",
    "df['Price per Area'] = df['SalePrice']/df['Lot Area']"
   ]
  },
  {
   "cell_type": "code",
   "execution_count": 25,
   "id": "12850704-0b97-4d98-b2f0-fe1c6a61e51a",
   "metadata": {},
   "outputs": [
    {
     "data": {
      "text/html": [
       "<div>\n",
       "<style scoped>\n",
       "    .dataframe tbody tr th:only-of-type {\n",
       "        vertical-align: middle;\n",
       "    }\n",
       "\n",
       "    .dataframe tbody tr th {\n",
       "        vertical-align: top;\n",
       "    }\n",
       "\n",
       "    .dataframe thead th {\n",
       "        text-align: right;\n",
       "    }\n",
       "</style>\n",
       "<table border=\"1\" class=\"dataframe\">\n",
       "  <thead>\n",
       "    <tr style=\"text-align: right;\">\n",
       "      <th></th>\n",
       "      <th>Neighborhood</th>\n",
       "      <th>Year Built</th>\n",
       "      <th>Overall Qual</th>\n",
       "      <th>Kitchen Qual</th>\n",
       "      <th>Exter Qual</th>\n",
       "      <th>Lot Area</th>\n",
       "      <th>SalePrice</th>\n",
       "      <th>Price per Area</th>\n",
       "    </tr>\n",
       "    <tr>\n",
       "      <th>PID</th>\n",
       "      <th></th>\n",
       "      <th></th>\n",
       "      <th></th>\n",
       "      <th></th>\n",
       "      <th></th>\n",
       "      <th></th>\n",
       "      <th></th>\n",
       "      <th></th>\n",
       "    </tr>\n",
       "  </thead>\n",
       "  <tbody>\n",
       "    <tr>\n",
       "      <th>526301100</th>\n",
       "      <td>NAmes</td>\n",
       "      <td>1960</td>\n",
       "      <td>6</td>\n",
       "      <td>TA</td>\n",
       "      <td>TA</td>\n",
       "      <td>31770</td>\n",
       "      <td>215000</td>\n",
       "      <td>6.767391</td>\n",
       "    </tr>\n",
       "    <tr>\n",
       "      <th>526350040</th>\n",
       "      <td>NAmes</td>\n",
       "      <td>1961</td>\n",
       "      <td>5</td>\n",
       "      <td>TA</td>\n",
       "      <td>TA</td>\n",
       "      <td>11622</td>\n",
       "      <td>105000</td>\n",
       "      <td>9.034590</td>\n",
       "    </tr>\n",
       "    <tr>\n",
       "      <th>526351010</th>\n",
       "      <td>NAmes</td>\n",
       "      <td>1958</td>\n",
       "      <td>6</td>\n",
       "      <td>Gd</td>\n",
       "      <td>TA</td>\n",
       "      <td>14267</td>\n",
       "      <td>172000</td>\n",
       "      <td>12.055793</td>\n",
       "    </tr>\n",
       "    <tr>\n",
       "      <th>526353030</th>\n",
       "      <td>NAmes</td>\n",
       "      <td>1968</td>\n",
       "      <td>7</td>\n",
       "      <td>Ex</td>\n",
       "      <td>Gd</td>\n",
       "      <td>11160</td>\n",
       "      <td>244000</td>\n",
       "      <td>21.863799</td>\n",
       "    </tr>\n",
       "    <tr>\n",
       "      <th>527105010</th>\n",
       "      <td>Gilbert</td>\n",
       "      <td>1997</td>\n",
       "      <td>5</td>\n",
       "      <td>TA</td>\n",
       "      <td>TA</td>\n",
       "      <td>13830</td>\n",
       "      <td>189900</td>\n",
       "      <td>13.731020</td>\n",
       "    </tr>\n",
       "  </tbody>\n",
       "</table>\n",
       "</div>"
      ],
      "text/plain": [
       "          Neighborhood  Year Built  Overall Qual Kitchen Qual Exter Qual  \\\n",
       "PID                                                                        \n",
       "526301100        NAmes        1960             6           TA         TA   \n",
       "526350040        NAmes        1961             5           TA         TA   \n",
       "526351010        NAmes        1958             6           Gd         TA   \n",
       "526353030        NAmes        1968             7           Ex         Gd   \n",
       "527105010      Gilbert        1997             5           TA         TA   \n",
       "\n",
       "           Lot Area  SalePrice  Price per Area  \n",
       "PID                                             \n",
       "526301100     31770     215000        6.767391  \n",
       "526350040     11622     105000        9.034590  \n",
       "526351010     14267     172000       12.055793  \n",
       "526353030     11160     244000       21.863799  \n",
       "527105010     13830     189900       13.731020  "
      ]
     },
     "execution_count": 25,
     "metadata": {},
     "output_type": "execute_result"
    }
   ],
   "source": [
    "# Taking a brief look at the data using \".head()\"\n",
    "df.head()"
   ]
  },
  {
   "cell_type": "code",
   "execution_count": 26,
   "id": "36a740e6-cd60-42ce-99cf-8339e1a62611",
   "metadata": {},
   "outputs": [
    {
     "data": {
      "text/plain": [
       "<matplotlib.legend.Legend at 0x22d49d573d0>"
      ]
     },
     "execution_count": 26,
     "metadata": {},
     "output_type": "execute_result"
    },
    {
     "data": {
      "image/png": "[encoded data removed]",
      "text/plain": [
       "<Figure size 900x300 with 1 Axes>"
      ]
     },
     "metadata": {},
     "output_type": "display_data"
    }
   ],
   "source": [
    "# Creating a histogram of the \"Price per Area\" feature and also showing the mean and the median\n",
    "plt.figure(figsize = (9, 3), dpi= 100)\n",
    "sns.histplot(data = df, x = 'Price per Area', color = 'orange', edgecolor = 'linen', alpha = 0.5)\n",
    "plt.title('Histogram of Price per Area of Houses')\n",
    "plt.xlabel('Price per Area of House in dollars per square feet')\n",
    "plt.ylabel('Count')\n",
    "plt.vlines(x = df['Price per Area'].mean(), ymin = 0, ymax = 275, colors = 'blue', label = 'Mean')\n",
    "plt.vlines(x = df['Price per Area'].median(), ymin = 0, ymax = 275, colors = 'red', label = 'Median')\n",
    "plt.legend()"
   ]
  },
  {
   "cell_type": "code",
   "execution_count": 27,
   "id": "c10b7428-7117-4c2b-a85e-2088014867b1",
   "metadata": {},
   "outputs": [
    {
     "data": {
      "text/plain": [
       "Text(0.5, 0, 'Price per Area of House in dollars per square feet')"
      ]
     },
     "execution_count": 27,
     "metadata": {},
     "output_type": "execute_result"
    },
    {
     "data": {
      "image/png": "[encoded data removed]",
      "text/plain": [
       "<Figure size 800x400 with 1 Axes>"
      ]
     },
     "metadata": {},
     "output_type": "display_data"
    }
   ],
   "source": [
    "# Creating a box plot of the \"Price per Area\" feature\n",
    "plt.figure(figsize = (8, 4), dpi= 100)\n",
    "sns.boxplot(data = df, x = 'Price per Area', color = 'linen')\n",
    "plt.title('Box Plot of Price per Area of Houses')\n",
    "plt.xlabel('Price per Area of House in dollars per square feet')"
   ]
  },
  {
   "cell_type": "code",
   "execution_count": 28,
   "id": "c1705515-ab6b-4871-982a-a1032f307365",
   "metadata": {},
   "outputs": [
    {
     "data": {
      "text/plain": [
       "Index(['Neighborhood', 'Year Built', 'Overall Qual', 'Kitchen Qual',\n",
       "       'Exter Qual', 'Lot Area', 'SalePrice', 'Price per Area'],\n",
       "      dtype='object')"
      ]
     },
     "execution_count": 28,
     "metadata": {},
     "output_type": "execute_result"
    }
   ],
   "source": [
    "# Getting the column names of the data frame using \".columns\"\n",
    "df.columns"
   ]
  },
  {
   "cell_type": "code",
   "execution_count": 29,
   "id": "3d51e972-c244-4024-b64d-cbf9e341a874",
   "metadata": {},
   "outputs": [
    {
     "data": {
      "text/plain": [
       "Text(0, 0.5, 'Count')"
      ]
     },
     "execution_count": 29,
     "metadata": {},
     "output_type": "execute_result"
    },
    {
     "data": {
      "image/png": "[encoded data removed]",
      "text/plain": [
       "<Figure size 900x300 with 1 Axes>"
      ]
     },
     "metadata": {},
     "output_type": "display_data"
    }
   ],
   "source": [
    "# Creating a count plot of the \"Overall Qual\" feature\n",
    "plt.figure(figsize = (9, 3), dpi= 100)\n",
    "sns.countplot(data = df, x = 'Overall Qual')\n",
    "plt.title('Count Plot of Number of Houses Based on Overall Quality')\n",
    "plt.xlabel('Overall Quality of the House on a Scale of 1 to 10')\n",
    "plt.ylabel('Count')"
   ]
  },
  {
   "cell_type": "code",
   "execution_count": 30,
   "id": "a1ec9619-139d-4c4f-8528-34585c4fe818",
   "metadata": {},
   "outputs": [
    {
     "data": {
      "text/plain": [
       "Text(0, 0.5, 'Count')"
      ]
     },
     "execution_count": 30,
     "metadata": {},
     "output_type": "execute_result"
    },
    {
     "data": {
      "image/png": "[encoded data removed]",
      "text/plain": [
       "<Figure size 900x300 with 1 Axes>"
      ]
     },
     "metadata": {},
     "output_type": "display_data"
    }
   ],
   "source": [
    "# Creating a count plot of the \"Kitchen Qual\" feature\n",
    "plt.figure(figsize = (9, 3), dpi= 100)\n",
    "sns.countplot(data = df, x = 'Kitchen Qual')\n",
    "plt.title('Count Plot of Number of Houses Based on Kitchen Quality')\n",
    "plt.xlabel('Kitchen Quality')\n",
    "plt.ylabel('Count')"
   ]
  },
  {
   "cell_type": "code",
   "execution_count": 31,
   "id": "95d2d283-d6a7-411b-8f4a-0f9baddc8155",
   "metadata": {},
   "outputs": [
    {
     "data": {
      "text/plain": [
       "Text(0, 0.5, 'Count')"
      ]
     },
     "execution_count": 31,
     "metadata": {},
     "output_type": "execute_result"
    },
    {
     "data": {
      "image/png": "[encoded data removed]",
      "text/plain": [
       "<Figure size 900x300 with 1 Axes>"
      ]
     },
     "metadata": {},
     "output_type": "display_data"
    }
   ],
   "source": [
    "# Creating a count plot of the \"Exter Qual\" feature\n",
    "plt.figure(figsize = (9, 3), dpi= 100)\n",
    "sns.countplot(data = df, x = 'Exter Qual')\n",
    "plt.title('Count Plot of Number of Houses Based on Exterior Material Quality')\n",
    "plt.xlabel('Exterior Material Quality')\n",
    "plt.ylabel('Count')"
   ]
  },
  {
   "cell_type": "code",
   "execution_count": 32,
   "id": "35e6900b-35f6-4175-ab16-3c5d0d6e7deb",
   "metadata": {},
   "outputs": [],
   "source": [
    "# Subsetting the data frame to contain only the houses whose \"Year Built\" feature is greater than the median\n",
    "yr_median = df['Year Built'].median()\n",
    "df = df[df['Year Built'] > yr_median]"
   ]
  },
  {
   "cell_type": "code",
   "execution_count": 33,
   "id": "b7aa3d21-9e2e-4854-b450-1b0d82e69b04",
   "metadata": {},
   "outputs": [],
   "source": [
    "# Subsetting the data frame to contain only the houses whose \"Price per Area\" feature is less than the median\n",
    "ppa_median = df['Price per Area'].median()\n",
    "df = df[df['Price per Area'] < ppa_median]"
   ]
  },
  {
   "cell_type": "code",
   "execution_count": 34,
   "id": "09a511e0-f589-4941-81db-f868679f9b31",
   "metadata": {},
   "outputs": [],
   "source": [
    "# Subsetting the data frame to contain only the houses whose \"Overall Qual\" feature is greater than the mode\n",
    "ovq_mode = df['Overall Qual'].value_counts().index[0]\n",
    "df = df[df['Overall Qual'] > ovq_mode]"
   ]
  },
  {
   "cell_type": "code",
   "execution_count": 35,
   "id": "7fa6df74-d6ec-45e8-a042-a7716fcb3d19",
   "metadata": {},
   "outputs": [],
   "source": [
    "# Subsetting the data frame to contain only the houses whose \"Kitchen Qual\" feature is typical, good or excellent\n",
    "df = df[(df['Kitchen Qual'] != \"Po\") & (df['Kitchen Qual'] != \"Fa\")]"
   ]
  },
  {
   "cell_type": "code",
   "execution_count": 36,
   "id": "757a6fb1-b3be-4e08-b179-37085c7cf7f8",
   "metadata": {},
   "outputs": [],
   "source": [
    "# Subsetting the data frame to contain only the houses whose \"Exter Qual\" feature is typical, good or excellent\n",
    "df = df[(df['Exter Qual'] != \"Po\") & (df['Exter Qual'] != \"Fa\")]"
   ]
  },
  {
   "cell_type": "code",
   "execution_count": 37,
   "id": "89f76ded-2e52-4066-972a-bf5614399191",
   "metadata": {},
   "outputs": [
    {
     "data": {
      "text/plain": [
       "(112, 8)"
      ]
     },
     "execution_count": 37,
     "metadata": {},
     "output_type": "execute_result"
    }
   ],
   "source": [
    "# Getting the dimensions of the data frame using \".shape\"\n",
    "df.shape"
   ]
  },
  {
   "cell_type": "code",
   "execution_count": 38,
   "id": "8c7bc1ce-06a7-4880-8696-b96e273ca8b0",
   "metadata": {},
   "outputs": [
    {
     "data": {
      "text/html": [
       "<div>\n",
       "<style scoped>\n",
       "    .dataframe tbody tr th:only-of-type {\n",
       "        vertical-align: middle;\n",
       "    }\n",
       "\n",
       "    .dataframe tbody tr th {\n",
       "        vertical-align: top;\n",
       "    }\n",
       "\n",
       "    .dataframe thead th {\n",
       "        text-align: right;\n",
       "    }\n",
       "</style>\n",
       "<table border=\"1\" class=\"dataframe\">\n",
       "  <thead>\n",
       "    <tr style=\"text-align: right;\">\n",
       "      <th></th>\n",
       "      <th>Neighborhood</th>\n",
       "      <th>Year Built</th>\n",
       "      <th>Overall Qual</th>\n",
       "      <th>Kitchen Qual</th>\n",
       "      <th>Exter Qual</th>\n",
       "      <th>Lot Area</th>\n",
       "      <th>SalePrice</th>\n",
       "      <th>Price per Area</th>\n",
       "    </tr>\n",
       "    <tr>\n",
       "      <th>PID</th>\n",
       "      <th></th>\n",
       "      <th></th>\n",
       "      <th></th>\n",
       "      <th></th>\n",
       "      <th></th>\n",
       "      <th></th>\n",
       "      <th></th>\n",
       "      <th></th>\n",
       "    </tr>\n",
       "  </thead>\n",
       "  <tbody>\n",
       "    <tr>\n",
       "      <th>527216070</th>\n",
       "      <td>StoneBr</td>\n",
       "      <td>2003</td>\n",
       "      <td>8</td>\n",
       "      <td>Ex</td>\n",
       "      <td>Ex</td>\n",
       "      <td>53504</td>\n",
       "      <td>538000</td>\n",
       "      <td>10.055323</td>\n",
       "    </tr>\n",
       "    <tr>\n",
       "      <th>527225035</th>\n",
       "      <td>Gilbert</td>\n",
       "      <td>1988</td>\n",
       "      <td>8</td>\n",
       "      <td>TA</td>\n",
       "      <td>Gd</td>\n",
       "      <td>12134</td>\n",
       "      <td>164000</td>\n",
       "      <td>13.515741</td>\n",
       "    </tr>\n",
       "    <tr>\n",
       "      <th>528138020</th>\n",
       "      <td>NridgHt</td>\n",
       "      <td>2005</td>\n",
       "      <td>8</td>\n",
       "      <td>Ex</td>\n",
       "      <td>Gd</td>\n",
       "      <td>14122</td>\n",
       "      <td>259000</td>\n",
       "      <td>18.340178</td>\n",
       "    </tr>\n",
       "    <tr>\n",
       "      <th>528344070</th>\n",
       "      <td>NoRidge</td>\n",
       "      <td>1998</td>\n",
       "      <td>8</td>\n",
       "      <td>Gd</td>\n",
       "      <td>Gd</td>\n",
       "      <td>17433</td>\n",
       "      <td>355000</td>\n",
       "      <td>20.363678</td>\n",
       "    </tr>\n",
       "    <tr>\n",
       "      <th>533238045</th>\n",
       "      <td>Somerst</td>\n",
       "      <td>2010</td>\n",
       "      <td>8</td>\n",
       "      <td>Gd</td>\n",
       "      <td>Gd</td>\n",
       "      <td>12853</td>\n",
       "      <td>267916</td>\n",
       "      <td>20.844628</td>\n",
       "    </tr>\n",
       "  </tbody>\n",
       "</table>\n",
       "</div>"
      ],
      "text/plain": [
       "          Neighborhood  Year Built  Overall Qual Kitchen Qual Exter Qual  \\\n",
       "PID                                                                        \n",
       "527216070      StoneBr        2003             8           Ex         Ex   \n",
       "527225035      Gilbert        1988             8           TA         Gd   \n",
       "528138020      NridgHt        2005             8           Ex         Gd   \n",
       "528344070      NoRidge        1998             8           Gd         Gd   \n",
       "533238045      Somerst        2010             8           Gd         Gd   \n",
       "\n",
       "           Lot Area  SalePrice  Price per Area  \n",
       "PID                                             \n",
       "527216070     53504     538000       10.055323  \n",
       "527225035     12134     164000       13.515741  \n",
       "528138020     14122     259000       18.340178  \n",
       "528344070     17433     355000       20.363678  \n",
       "533238045     12853     267916       20.844628  "
      ]
     },
     "execution_count": 38,
     "metadata": {},
     "output_type": "execute_result"
    }
   ],
   "source": [
    "# Taking a brief look at the data using \".head()\"\n",
    "df.head()"
   ]
  },
  {
   "cell_type": "code",
   "execution_count": 39,
   "id": "b930dc17-fc24-499d-9c55-e618cbe1307a",
   "metadata": {},
   "outputs": [
    {
     "data": {
      "text/plain": [
       "([0, 1, 2, 3, 4, 5, 6, 7, 8, 9, 10, 11, 12, 13],\n",
       " [Text(0, 0, 'StoneBr'),\n",
       "  Text(1, 0, 'Gilbert'),\n",
       "  Text(2, 0, 'NridgHt'),\n",
       "  Text(3, 0, 'NoRidge'),\n",
       "  Text(4, 0, 'Somerst'),\n",
       "  Text(5, 0, 'CollgCr'),\n",
       "  Text(6, 0, 'Timber'),\n",
       "  Text(7, 0, 'SawyerW'),\n",
       "  Text(8, 0, 'Veenker'),\n",
       "  Text(9, 0, 'NWAmes'),\n",
       "  Text(10, 0, 'Edwards'),\n",
       "  Text(11, 0, 'Mitchel'),\n",
       "  Text(12, 0, 'ClearCr'),\n",
       "  Text(13, 0, 'Crawfor')])"
      ]
     },
     "execution_count": 39,
     "metadata": {},
     "output_type": "execute_result"
    },
    {
     "data": {
      "image/png": "[encoded data removed]",
      "text/plain": [
       "<Figure size 900x300 with 1 Axes>"
      ]
     },
     "metadata": {},
     "output_type": "display_data"
    }
   ],
   "source": [
    "# Creating a count plot of the \"Neighborhood\" feature\n",
    "plt.figure(figsize = (9, 3), dpi= 100)\n",
    "sns.countplot(data = df, x = 'Neighborhood')\n",
    "plt.title('Count Plot of Number of Houses Based on Neighborhood')\n",
    "plt.xlabel('Neighborhood')\n",
    "plt.ylabel('Count')\n",
    "plt.xticks(rotation = 90)"
   ]
  },
  {
   "cell_type": "code",
   "execution_count": 40,
   "id": "01c1f65a-ccc8-4c3f-9e61-f4a186e08ded",
   "metadata": {},
   "outputs": [
    {
     "data": {
      "text/plain": [
       "array(['StoneBr', 'Gilbert', 'NridgHt', 'NoRidge', 'Somerst', 'CollgCr',\n",
       "       'Timber', 'SawyerW', 'Veenker', 'NWAmes', 'Edwards', 'Mitchel',\n",
       "       'ClearCr', 'Crawfor'], dtype=object)"
      ]
     },
     "execution_count": 40,
     "metadata": {},
     "output_type": "execute_result"
    }
   ],
   "source": [
    "# Storing the unique neighbourhood names in the data frame as a list\n",
    "nbd_names = df['Neighborhood'].unique()\n",
    "nbd_names"
   ]
  },
  {
   "cell_type": "code",
   "execution_count": 41,
   "id": "241064e9-6276-4649-a9f2-b4c78ff1b245",
   "metadata": {},
   "outputs": [],
   "source": [
    "# Storing the number of houses for each neighbourhood\n",
    "nbd_houses = df.groupby('Neighborhood').apply(lambda x: x.shape[0])\n",
    "nbd_houses = nbd_houses.reindex(index = nbd_names)"
   ]
  },
  {
   "cell_type": "code",
   "execution_count": 42,
   "id": "90eb188a-2c87-4253-8b25-61ccd02c3ffb",
   "metadata": {},
   "outputs": [],
   "source": [
    "# Storing the median \"Year Built\" feature for each neighbourhood\n",
    "nbd_year = df.groupby('Neighborhood')['Year Built'].median()\n",
    "nbd_year = nbd_year.reindex(index = nbd_names)"
   ]
  },
  {
   "cell_type": "code",
   "execution_count": 43,
   "id": "6c528ac4-ee67-4082-a17f-8bee45bec279",
   "metadata": {},
   "outputs": [],
   "source": [
    "# Storing the mean \"Overall Qual\" feature for each neighbourhood\n",
    "nbd_ovq = df.groupby('Neighborhood')['Overall Qual'].mean()\n",
    "nbd_ovq = nbd_ovq.reindex(index = nbd_names)"
   ]
  },
  {
   "cell_type": "code",
   "execution_count": 44,
   "id": "257949ce-0c3e-4b35-bb95-0d9d4052d07e",
   "metadata": {},
   "outputs": [],
   "source": [
    "# Storing the modal \"Kitchen Qual\" feature for each neighbourhood\n",
    "nbd_kcq = df.groupby('Neighborhood')['Kitchen Qual'].apply(lambda x: x.value_counts().index[0])\n",
    "nbd_kcq = nbd_kcq.reindex(index = nbd_names)"
   ]
  },
  {
   "cell_type": "code",
   "execution_count": 45,
   "id": "c8d3c47d-cf08-46fd-a7bd-1fccf19c93cc",
   "metadata": {},
   "outputs": [],
   "source": [
    "# Storing the modal \"Exter Qual\" feature for each neighbourhood\n",
    "nbd_exq = df.groupby('Neighborhood')['Exter Qual'].apply(lambda x: x.value_counts().index[0])\n",
    "nbd_exq = nbd_exq.reindex(index = nbd_names)"
   ]
  },
  {
   "cell_type": "code",
   "execution_count": 46,
   "id": "5efc33f7-d1dc-412e-b830-11d819489f57",
   "metadata": {},
   "outputs": [],
   "source": [
    "# Storing the mean \"Lot Area\" feature for each neighbourhood\n",
    "nbd_lot = df.groupby('Neighborhood')['Lot Area'].mean()\n",
    "nbd_lot = nbd_lot.reindex(index = nbd_names)"
   ]
  },
  {
   "cell_type": "code",
   "execution_count": 47,
   "id": "fc016c2f-e49c-4edd-b739-2dd341644c2e",
   "metadata": {},
   "outputs": [],
   "source": [
    "# Storing the mean \"SalePrice\" feature for each neighbourhood\n",
    "nbd_sp = df.groupby('Neighborhood')['SalePrice'].mean()\n",
    "nbd_sp = nbd_sp.reindex(index = nbd_names)"
   ]
  },
  {
   "cell_type": "code",
   "execution_count": 48,
   "id": "c6952f4a-3a43-447f-a70e-0e9db8cb25c0",
   "metadata": {},
   "outputs": [],
   "source": [
    "# Storing the mean \"Price per Area\" feature for each neighbourhood\n",
    "nbd_ppa = df.groupby('Neighborhood')['Price per Area'].mean()\n",
    "nbd_ppa = nbd_ppa.reindex(index = nbd_names)"
   ]
  },
  {
   "cell_type": "code",
   "execution_count": 49,
   "id": "054f2f77-9d3e-4c05-94fb-dc24502c0691",
   "metadata": {},
   "outputs": [],
   "source": [
    "# Calculating and storing the mean absolute deviation values for the \"Price per Area\" feature about its mean for each neighbourhood\n",
    "nbd_ppa_mad = df.groupby('Neighborhood')['Price per Area'].apply(lambda x: np.mean(np.abs(x - np.mean(x))))\n",
    "nbd_ppa_mad = nbd_ppa_mad.reindex(index = nbd_names)"
   ]
  },
  {
   "cell_type": "code",
   "execution_count": 50,
   "id": "f9f774eb-84eb-4ff9-8aa6-6c2bcc58600d",
   "metadata": {},
   "outputs": [],
   "source": [
    "# Creating a data frame to store the representative values for each neighbourhood\n",
    "nbd = pd.DataFrame(data = {'Number of Houses' : nbd_houses,\n",
    "                           'Median Year Built' : nbd_year,\n",
    "                           'Mean Overall Quality' : nbd_ovq,\n",
    "                           'Modal Kitchen Quality' : nbd_kcq,\n",
    "                           'Modal Exter Quality' : nbd_exq,\n",
    "                           'Mean Lot Area' : nbd_lot,\n",
    "                           'Mean Sale Price' : nbd_sp,\n",
    "                           'Mean Price per Area' : nbd_ppa,\n",
    "                           'Deviation in Price per Area' : nbd_ppa_mad},\n",
    "                   index = nbd_names)"
   ]
  },
  {
   "cell_type": "code",
   "execution_count": 51,
   "id": "678d7d02-2425-4ea9-b3d3-1fb922cd539c",
   "metadata": {},
   "outputs": [
    {
     "data": {
      "text/html": [
       "<div>\n",
       "<style scoped>\n",
       "    .dataframe tbody tr th:only-of-type {\n",
       "        vertical-align: middle;\n",
       "    }\n",
       "\n",
       "    .dataframe tbody tr th {\n",
       "        vertical-align: top;\n",
       "    }\n",
       "\n",
       "    .dataframe thead th {\n",
       "        text-align: right;\n",
       "    }\n",
       "</style>\n",
       "<table border=\"1\" class=\"dataframe\">\n",
       "  <thead>\n",
       "    <tr style=\"text-align: right;\">\n",
       "      <th></th>\n",
       "      <th>Number of Houses</th>\n",
       "      <th>Median Year Built</th>\n",
       "      <th>Mean Overall Quality</th>\n",
       "      <th>Modal Kitchen Quality</th>\n",
       "      <th>Modal Exter Quality</th>\n",
       "      <th>Mean Lot Area</th>\n",
       "      <th>Mean Sale Price</th>\n",
       "      <th>Mean Price per Area</th>\n",
       "      <th>Deviation in Price per Area</th>\n",
       "    </tr>\n",
       "  </thead>\n",
       "  <tbody>\n",
       "    <tr>\n",
       "      <th>StoneBr</th>\n",
       "      <td>3</td>\n",
       "      <td>2003.0</td>\n",
       "      <td>8.333333</td>\n",
       "      <td>Gd</td>\n",
       "      <td>Ex</td>\n",
       "      <td>39528.666667</td>\n",
       "      <td>466529.000000</td>\n",
       "      <td>14.011932</td>\n",
       "      <td>4.390784</td>\n",
       "    </tr>\n",
       "    <tr>\n",
       "      <th>Gilbert</th>\n",
       "      <td>6</td>\n",
       "      <td>2003.0</td>\n",
       "      <td>8.000000</td>\n",
       "      <td>Gd</td>\n",
       "      <td>Gd</td>\n",
       "      <td>11672.333333</td>\n",
       "      <td>223000.000000</td>\n",
       "      <td>19.160525</td>\n",
       "      <td>1.920681</td>\n",
       "    </tr>\n",
       "    <tr>\n",
       "      <th>NridgHt</th>\n",
       "      <td>19</td>\n",
       "      <td>2005.0</td>\n",
       "      <td>8.263158</td>\n",
       "      <td>Gd</td>\n",
       "      <td>Gd</td>\n",
       "      <td>15466.157895</td>\n",
       "      <td>302021.368421</td>\n",
       "      <td>19.692874</td>\n",
       "      <td>1.994279</td>\n",
       "    </tr>\n",
       "    <tr>\n",
       "      <th>NoRidge</th>\n",
       "      <td>12</td>\n",
       "      <td>1994.0</td>\n",
       "      <td>8.166667</td>\n",
       "      <td>Gd</td>\n",
       "      <td>Gd</td>\n",
       "      <td>18624.583333</td>\n",
       "      <td>324170.833333</td>\n",
       "      <td>19.200591</td>\n",
       "      <td>2.829039</td>\n",
       "    </tr>\n",
       "    <tr>\n",
       "      <th>Somerst</th>\n",
       "      <td>17</td>\n",
       "      <td>2006.0</td>\n",
       "      <td>8.117647</td>\n",
       "      <td>Gd</td>\n",
       "      <td>Gd</td>\n",
       "      <td>12867.823529</td>\n",
       "      <td>256204.647059</td>\n",
       "      <td>19.868429</td>\n",
       "      <td>1.358809</td>\n",
       "    </tr>\n",
       "    <tr>\n",
       "      <th>CollgCr</th>\n",
       "      <td>21</td>\n",
       "      <td>2002.0</td>\n",
       "      <td>8.047619</td>\n",
       "      <td>Gd</td>\n",
       "      <td>Gd</td>\n",
       "      <td>12782.809524</td>\n",
       "      <td>241956.190476</td>\n",
       "      <td>19.207571</td>\n",
       "      <td>2.119454</td>\n",
       "    </tr>\n",
       "    <tr>\n",
       "      <th>Timber</th>\n",
       "      <td>14</td>\n",
       "      <td>2005.5</td>\n",
       "      <td>8.142857</td>\n",
       "      <td>Gd</td>\n",
       "      <td>Gd</td>\n",
       "      <td>13445.214286</td>\n",
       "      <td>264538.714286</td>\n",
       "      <td>19.939039</td>\n",
       "      <td>2.300928</td>\n",
       "    </tr>\n",
       "    <tr>\n",
       "      <th>SawyerW</th>\n",
       "      <td>4</td>\n",
       "      <td>1994.0</td>\n",
       "      <td>8.000000</td>\n",
       "      <td>Gd</td>\n",
       "      <td>Gd</td>\n",
       "      <td>10297.500000</td>\n",
       "      <td>215750.000000</td>\n",
       "      <td>21.018843</td>\n",
       "      <td>1.188072</td>\n",
       "    </tr>\n",
       "    <tr>\n",
       "      <th>Veenker</th>\n",
       "      <td>9</td>\n",
       "      <td>1980.0</td>\n",
       "      <td>8.222222</td>\n",
       "      <td>Gd</td>\n",
       "      <td>Gd</td>\n",
       "      <td>19433.111111</td>\n",
       "      <td>270583.333333</td>\n",
       "      <td>16.295566</td>\n",
       "      <td>4.184029</td>\n",
       "    </tr>\n",
       "    <tr>\n",
       "      <th>NWAmes</th>\n",
       "      <td>1</td>\n",
       "      <td>1996.0</td>\n",
       "      <td>8.000000</td>\n",
       "      <td>Gd</td>\n",
       "      <td>Gd</td>\n",
       "      <td>14311.000000</td>\n",
       "      <td>306000.000000</td>\n",
       "      <td>21.382154</td>\n",
       "      <td>0.000000</td>\n",
       "    </tr>\n",
       "    <tr>\n",
       "      <th>Edwards</th>\n",
       "      <td>3</td>\n",
       "      <td>2008.0</td>\n",
       "      <td>10.000000</td>\n",
       "      <td>Ex</td>\n",
       "      <td>Ex</td>\n",
       "      <td>47757.000000</td>\n",
       "      <td>176200.000000</td>\n",
       "      <td>3.930550</td>\n",
       "      <td>0.950752</td>\n",
       "    </tr>\n",
       "    <tr>\n",
       "      <th>Mitchel</th>\n",
       "      <td>1</td>\n",
       "      <td>2002.0</td>\n",
       "      <td>8.000000</td>\n",
       "      <td>Gd</td>\n",
       "      <td>Gd</td>\n",
       "      <td>13265.000000</td>\n",
       "      <td>271000.000000</td>\n",
       "      <td>20.429702</td>\n",
       "      <td>0.000000</td>\n",
       "    </tr>\n",
       "    <tr>\n",
       "      <th>ClearCr</th>\n",
       "      <td>1</td>\n",
       "      <td>1976.0</td>\n",
       "      <td>8.000000</td>\n",
       "      <td>Gd</td>\n",
       "      <td>Gd</td>\n",
       "      <td>20064.000000</td>\n",
       "      <td>279000.000000</td>\n",
       "      <td>13.905502</td>\n",
       "      <td>0.000000</td>\n",
       "    </tr>\n",
       "    <tr>\n",
       "      <th>Crawfor</th>\n",
       "      <td>1</td>\n",
       "      <td>1986.0</td>\n",
       "      <td>8.000000</td>\n",
       "      <td>Gd</td>\n",
       "      <td>Gd</td>\n",
       "      <td>18044.000000</td>\n",
       "      <td>315000.000000</td>\n",
       "      <td>17.457327</td>\n",
       "      <td>0.000000</td>\n",
       "    </tr>\n",
       "  </tbody>\n",
       "</table>\n",
       "</div>"
      ],
      "text/plain": [
       "         Number of Houses  Median Year Built  Mean Overall Quality  \\\n",
       "StoneBr                 3             2003.0              8.333333   \n",
       "Gilbert                 6             2003.0              8.000000   \n",
       "NridgHt                19             2005.0              8.263158   \n",
       "NoRidge                12             1994.0              8.166667   \n",
       "Somerst                17             2006.0              8.117647   \n",
       "CollgCr                21             2002.0              8.047619   \n",
       "Timber                 14             2005.5              8.142857   \n",
       "SawyerW                 4             1994.0              8.000000   \n",
       "Veenker                 9             1980.0              8.222222   \n",
       "NWAmes                  1             1996.0              8.000000   \n",
       "Edwards                 3             2008.0             10.000000   \n",
       "Mitchel                 1             2002.0              8.000000   \n",
       "ClearCr                 1             1976.0              8.000000   \n",
       "Crawfor                 1             1986.0              8.000000   \n",
       "\n",
       "        Modal Kitchen Quality Modal Exter Quality  Mean Lot Area  \\\n",
       "StoneBr                    Gd                  Ex   39528.666667   \n",
       "Gilbert                    Gd                  Gd   11672.333333   \n",
       "NridgHt                    Gd                  Gd   15466.157895   \n",
       "NoRidge                    Gd                  Gd   18624.583333   \n",
       "Somerst                    Gd                  Gd   12867.823529   \n",
       "CollgCr                    Gd                  Gd   12782.809524   \n",
       "Timber                     Gd                  Gd   13445.214286   \n",
       "SawyerW                    Gd                  Gd   10297.500000   \n",
       "Veenker                    Gd                  Gd   19433.111111   \n",
       "NWAmes                     Gd                  Gd   14311.000000   \n",
       "Edwards                    Ex                  Ex   47757.000000   \n",
       "Mitchel                    Gd                  Gd   13265.000000   \n",
       "ClearCr                    Gd                  Gd   20064.000000   \n",
       "Crawfor                    Gd                  Gd   18044.000000   \n",
       "\n",
       "         Mean Sale Price  Mean Price per Area  Deviation in Price per Area  \n",
       "StoneBr    466529.000000            14.011932                     4.390784  \n",
       "Gilbert    223000.000000            19.160525                     1.920681  \n",
       "NridgHt    302021.368421            19.692874                     1.994279  \n",
       "NoRidge    324170.833333            19.200591                     2.829039  \n",
       "Somerst    256204.647059            19.868429                     1.358809  \n",
       "CollgCr    241956.190476            19.207571                     2.119454  \n",
       "Timber     264538.714286            19.939039                     2.300928  \n",
       "SawyerW    215750.000000            21.018843                     1.188072  \n",
       "Veenker    270583.333333            16.295566                     4.184029  \n",
       "NWAmes     306000.000000            21.382154                     0.000000  \n",
       "Edwards    176200.000000             3.930550                     0.950752  \n",
       "Mitchel    271000.000000            20.429702                     0.000000  \n",
       "ClearCr    279000.000000            13.905502                     0.000000  \n",
       "Crawfor    315000.000000            17.457327                     0.000000  "
      ]
     },
     "execution_count": 51,
     "metadata": {},
     "output_type": "execute_result"
    }
   ],
   "source": [
    "# Viewing a summary of the relevant values for each neighbourhood using the data frame \"nbd\"\n",
    "nbd"
   ]
  },
  {
   "cell_type": "code",
   "execution_count": 52,
   "id": "0ba8bdb3-3bd2-4612-831b-c4fed9d832f0",
   "metadata": {},
   "outputs": [],
   "source": [
    "# Retaining only those neighbourhoods that have more than one house\n",
    "nbd = nbd[nbd['Number of Houses'] > 1]"
   ]
  },
  {
   "cell_type": "code",
   "execution_count": 53,
   "id": "4a4b9aba-1c02-4c56-ab0c-4b7351af05e8",
   "metadata": {},
   "outputs": [
    {
     "data": {
      "text/html": [
       "<div>\n",
       "<style scoped>\n",
       "    .dataframe tbody tr th:only-of-type {\n",
       "        vertical-align: middle;\n",
       "    }\n",
       "\n",
       "    .dataframe tbody tr th {\n",
       "        vertical-align: top;\n",
       "    }\n",
       "\n",
       "    .dataframe thead th {\n",
       "        text-align: right;\n",
       "    }\n",
       "</style>\n",
       "<table border=\"1\" class=\"dataframe\">\n",
       "  <thead>\n",
       "    <tr style=\"text-align: right;\">\n",
       "      <th></th>\n",
       "      <th>Number of Houses</th>\n",
       "      <th>Median Year Built</th>\n",
       "      <th>Mean Overall Quality</th>\n",
       "      <th>Modal Kitchen Quality</th>\n",
       "      <th>Modal Exter Quality</th>\n",
       "      <th>Mean Lot Area</th>\n",
       "      <th>Mean Sale Price</th>\n",
       "      <th>Mean Price per Area</th>\n",
       "      <th>Deviation in Price per Area</th>\n",
       "    </tr>\n",
       "  </thead>\n",
       "  <tbody>\n",
       "    <tr>\n",
       "      <th>Edwards</th>\n",
       "      <td>3</td>\n",
       "      <td>2008.0</td>\n",
       "      <td>10.000000</td>\n",
       "      <td>Ex</td>\n",
       "      <td>Ex</td>\n",
       "      <td>47757.000000</td>\n",
       "      <td>176200.000000</td>\n",
       "      <td>3.930550</td>\n",
       "      <td>0.950752</td>\n",
       "    </tr>\n",
       "    <tr>\n",
       "      <th>StoneBr</th>\n",
       "      <td>3</td>\n",
       "      <td>2003.0</td>\n",
       "      <td>8.333333</td>\n",
       "      <td>Gd</td>\n",
       "      <td>Ex</td>\n",
       "      <td>39528.666667</td>\n",
       "      <td>466529.000000</td>\n",
       "      <td>14.011932</td>\n",
       "      <td>4.390784</td>\n",
       "    </tr>\n",
       "    <tr>\n",
       "      <th>Veenker</th>\n",
       "      <td>9</td>\n",
       "      <td>1980.0</td>\n",
       "      <td>8.222222</td>\n",
       "      <td>Gd</td>\n",
       "      <td>Gd</td>\n",
       "      <td>19433.111111</td>\n",
       "      <td>270583.333333</td>\n",
       "      <td>16.295566</td>\n",
       "      <td>4.184029</td>\n",
       "    </tr>\n",
       "    <tr>\n",
       "      <th>Gilbert</th>\n",
       "      <td>6</td>\n",
       "      <td>2003.0</td>\n",
       "      <td>8.000000</td>\n",
       "      <td>Gd</td>\n",
       "      <td>Gd</td>\n",
       "      <td>11672.333333</td>\n",
       "      <td>223000.000000</td>\n",
       "      <td>19.160525</td>\n",
       "      <td>1.920681</td>\n",
       "    </tr>\n",
       "    <tr>\n",
       "      <th>NoRidge</th>\n",
       "      <td>12</td>\n",
       "      <td>1994.0</td>\n",
       "      <td>8.166667</td>\n",
       "      <td>Gd</td>\n",
       "      <td>Gd</td>\n",
       "      <td>18624.583333</td>\n",
       "      <td>324170.833333</td>\n",
       "      <td>19.200591</td>\n",
       "      <td>2.829039</td>\n",
       "    </tr>\n",
       "    <tr>\n",
       "      <th>CollgCr</th>\n",
       "      <td>21</td>\n",
       "      <td>2002.0</td>\n",
       "      <td>8.047619</td>\n",
       "      <td>Gd</td>\n",
       "      <td>Gd</td>\n",
       "      <td>12782.809524</td>\n",
       "      <td>241956.190476</td>\n",
       "      <td>19.207571</td>\n",
       "      <td>2.119454</td>\n",
       "    </tr>\n",
       "    <tr>\n",
       "      <th>NridgHt</th>\n",
       "      <td>19</td>\n",
       "      <td>2005.0</td>\n",
       "      <td>8.263158</td>\n",
       "      <td>Gd</td>\n",
       "      <td>Gd</td>\n",
       "      <td>15466.157895</td>\n",
       "      <td>302021.368421</td>\n",
       "      <td>19.692874</td>\n",
       "      <td>1.994279</td>\n",
       "    </tr>\n",
       "    <tr>\n",
       "      <th>Somerst</th>\n",
       "      <td>17</td>\n",
       "      <td>2006.0</td>\n",
       "      <td>8.117647</td>\n",
       "      <td>Gd</td>\n",
       "      <td>Gd</td>\n",
       "      <td>12867.823529</td>\n",
       "      <td>256204.647059</td>\n",
       "      <td>19.868429</td>\n",
       "      <td>1.358809</td>\n",
       "    </tr>\n",
       "    <tr>\n",
       "      <th>Timber</th>\n",
       "      <td>14</td>\n",
       "      <td>2005.5</td>\n",
       "      <td>8.142857</td>\n",
       "      <td>Gd</td>\n",
       "      <td>Gd</td>\n",
       "      <td>13445.214286</td>\n",
       "      <td>264538.714286</td>\n",
       "      <td>19.939039</td>\n",
       "      <td>2.300928</td>\n",
       "    </tr>\n",
       "    <tr>\n",
       "      <th>SawyerW</th>\n",
       "      <td>4</td>\n",
       "      <td>1994.0</td>\n",
       "      <td>8.000000</td>\n",
       "      <td>Gd</td>\n",
       "      <td>Gd</td>\n",
       "      <td>10297.500000</td>\n",
       "      <td>215750.000000</td>\n",
       "      <td>21.018843</td>\n",
       "      <td>1.188072</td>\n",
       "    </tr>\n",
       "  </tbody>\n",
       "</table>\n",
       "</div>"
      ],
      "text/plain": [
       "         Number of Houses  Median Year Built  Mean Overall Quality  \\\n",
       "Edwards                 3             2008.0             10.000000   \n",
       "StoneBr                 3             2003.0              8.333333   \n",
       "Veenker                 9             1980.0              8.222222   \n",
       "Gilbert                 6             2003.0              8.000000   \n",
       "NoRidge                12             1994.0              8.166667   \n",
       "CollgCr                21             2002.0              8.047619   \n",
       "NridgHt                19             2005.0              8.263158   \n",
       "Somerst                17             2006.0              8.117647   \n",
       "Timber                 14             2005.5              8.142857   \n",
       "SawyerW                 4             1994.0              8.000000   \n",
       "\n",
       "        Modal Kitchen Quality Modal Exter Quality  Mean Lot Area  \\\n",
       "Edwards                    Ex                  Ex   47757.000000   \n",
       "StoneBr                    Gd                  Ex   39528.666667   \n",
       "Veenker                    Gd                  Gd   19433.111111   \n",
       "Gilbert                    Gd                  Gd   11672.333333   \n",
       "NoRidge                    Gd                  Gd   18624.583333   \n",
       "CollgCr                    Gd                  Gd   12782.809524   \n",
       "NridgHt                    Gd                  Gd   15466.157895   \n",
       "Somerst                    Gd                  Gd   12867.823529   \n",
       "Timber                     Gd                  Gd   13445.214286   \n",
       "SawyerW                    Gd                  Gd   10297.500000   \n",
       "\n",
       "         Mean Sale Price  Mean Price per Area  Deviation in Price per Area  \n",
       "Edwards    176200.000000             3.930550                     0.950752  \n",
       "StoneBr    466529.000000            14.011932                     4.390784  \n",
       "Veenker    270583.333333            16.295566                     4.184029  \n",
       "Gilbert    223000.000000            19.160525                     1.920681  \n",
       "NoRidge    324170.833333            19.200591                     2.829039  \n",
       "CollgCr    241956.190476            19.207571                     2.119454  \n",
       "NridgHt    302021.368421            19.692874                     1.994279  \n",
       "Somerst    256204.647059            19.868429                     1.358809  \n",
       "Timber     264538.714286            19.939039                     2.300928  \n",
       "SawyerW    215750.000000            21.018843                     1.188072  "
      ]
     },
     "execution_count": 53,
     "metadata": {},
     "output_type": "execute_result"
    }
   ],
   "source": [
    "# Sorting the data frame \"nbd\" based on the \"Mean Price per Area\" feature\n",
    "nbd.sort_values(by = 'Mean Price per Area', ascending = True)"
   ]
  },
  {
   "cell_type": "code",
   "execution_count": 54,
   "id": "03f2b744-c4a1-4471-86e8-2b92f7a52f89",
   "metadata": {},
   "outputs": [
    {
     "data": {
      "text/html": [
       "<div>\n",
       "<style scoped>\n",
       "    .dataframe tbody tr th:only-of-type {\n",
       "        vertical-align: middle;\n",
       "    }\n",
       "\n",
       "    .dataframe tbody tr th {\n",
       "        vertical-align: top;\n",
       "    }\n",
       "\n",
       "    .dataframe thead th {\n",
       "        text-align: right;\n",
       "    }\n",
       "</style>\n",
       "<table border=\"1\" class=\"dataframe\">\n",
       "  <thead>\n",
       "    <tr style=\"text-align: right;\">\n",
       "      <th></th>\n",
       "      <th>Number of Houses</th>\n",
       "      <th>Median Year Built</th>\n",
       "      <th>Mean Overall Quality</th>\n",
       "      <th>Modal Kitchen Quality</th>\n",
       "      <th>Modal Exter Quality</th>\n",
       "      <th>Mean Lot Area</th>\n",
       "      <th>Mean Sale Price</th>\n",
       "      <th>Mean Price per Area</th>\n",
       "      <th>Deviation in Price per Area</th>\n",
       "    </tr>\n",
       "  </thead>\n",
       "  <tbody>\n",
       "    <tr>\n",
       "      <th>Edwards</th>\n",
       "      <td>3</td>\n",
       "      <td>2008.0</td>\n",
       "      <td>10.000000</td>\n",
       "      <td>Ex</td>\n",
       "      <td>Ex</td>\n",
       "      <td>47757.000000</td>\n",
       "      <td>176200.000000</td>\n",
       "      <td>3.930550</td>\n",
       "      <td>0.950752</td>\n",
       "    </tr>\n",
       "    <tr>\n",
       "      <th>SawyerW</th>\n",
       "      <td>4</td>\n",
       "      <td>1994.0</td>\n",
       "      <td>8.000000</td>\n",
       "      <td>Gd</td>\n",
       "      <td>Gd</td>\n",
       "      <td>10297.500000</td>\n",
       "      <td>215750.000000</td>\n",
       "      <td>21.018843</td>\n",
       "      <td>1.188072</td>\n",
       "    </tr>\n",
       "    <tr>\n",
       "      <th>Somerst</th>\n",
       "      <td>17</td>\n",
       "      <td>2006.0</td>\n",
       "      <td>8.117647</td>\n",
       "      <td>Gd</td>\n",
       "      <td>Gd</td>\n",
       "      <td>12867.823529</td>\n",
       "      <td>256204.647059</td>\n",
       "      <td>19.868429</td>\n",
       "      <td>1.358809</td>\n",
       "    </tr>\n",
       "    <tr>\n",
       "      <th>Gilbert</th>\n",
       "      <td>6</td>\n",
       "      <td>2003.0</td>\n",
       "      <td>8.000000</td>\n",
       "      <td>Gd</td>\n",
       "      <td>Gd</td>\n",
       "      <td>11672.333333</td>\n",
       "      <td>223000.000000</td>\n",
       "      <td>19.160525</td>\n",
       "      <td>1.920681</td>\n",
       "    </tr>\n",
       "    <tr>\n",
       "      <th>NridgHt</th>\n",
       "      <td>19</td>\n",
       "      <td>2005.0</td>\n",
       "      <td>8.263158</td>\n",
       "      <td>Gd</td>\n",
       "      <td>Gd</td>\n",
       "      <td>15466.157895</td>\n",
       "      <td>302021.368421</td>\n",
       "      <td>19.692874</td>\n",
       "      <td>1.994279</td>\n",
       "    </tr>\n",
       "    <tr>\n",
       "      <th>CollgCr</th>\n",
       "      <td>21</td>\n",
       "      <td>2002.0</td>\n",
       "      <td>8.047619</td>\n",
       "      <td>Gd</td>\n",
       "      <td>Gd</td>\n",
       "      <td>12782.809524</td>\n",
       "      <td>241956.190476</td>\n",
       "      <td>19.207571</td>\n",
       "      <td>2.119454</td>\n",
       "    </tr>\n",
       "    <tr>\n",
       "      <th>Timber</th>\n",
       "      <td>14</td>\n",
       "      <td>2005.5</td>\n",
       "      <td>8.142857</td>\n",
       "      <td>Gd</td>\n",
       "      <td>Gd</td>\n",
       "      <td>13445.214286</td>\n",
       "      <td>264538.714286</td>\n",
       "      <td>19.939039</td>\n",
       "      <td>2.300928</td>\n",
       "    </tr>\n",
       "    <tr>\n",
       "      <th>NoRidge</th>\n",
       "      <td>12</td>\n",
       "      <td>1994.0</td>\n",
       "      <td>8.166667</td>\n",
       "      <td>Gd</td>\n",
       "      <td>Gd</td>\n",
       "      <td>18624.583333</td>\n",
       "      <td>324170.833333</td>\n",
       "      <td>19.200591</td>\n",
       "      <td>2.829039</td>\n",
       "    </tr>\n",
       "    <tr>\n",
       "      <th>Veenker</th>\n",
       "      <td>9</td>\n",
       "      <td>1980.0</td>\n",
       "      <td>8.222222</td>\n",
       "      <td>Gd</td>\n",
       "      <td>Gd</td>\n",
       "      <td>19433.111111</td>\n",
       "      <td>270583.333333</td>\n",
       "      <td>16.295566</td>\n",
       "      <td>4.184029</td>\n",
       "    </tr>\n",
       "    <tr>\n",
       "      <th>StoneBr</th>\n",
       "      <td>3</td>\n",
       "      <td>2003.0</td>\n",
       "      <td>8.333333</td>\n",
       "      <td>Gd</td>\n",
       "      <td>Ex</td>\n",
       "      <td>39528.666667</td>\n",
       "      <td>466529.000000</td>\n",
       "      <td>14.011932</td>\n",
       "      <td>4.390784</td>\n",
       "    </tr>\n",
       "  </tbody>\n",
       "</table>\n",
       "</div>"
      ],
      "text/plain": [
       "         Number of Houses  Median Year Built  Mean Overall Quality  \\\n",
       "Edwards                 3             2008.0             10.000000   \n",
       "SawyerW                 4             1994.0              8.000000   \n",
       "Somerst                17             2006.0              8.117647   \n",
       "Gilbert                 6             2003.0              8.000000   \n",
       "NridgHt                19             2005.0              8.263158   \n",
       "CollgCr                21             2002.0              8.047619   \n",
       "Timber                 14             2005.5              8.142857   \n",
       "NoRidge                12             1994.0              8.166667   \n",
       "Veenker                 9             1980.0              8.222222   \n",
       "StoneBr                 3             2003.0              8.333333   \n",
       "\n",
       "        Modal Kitchen Quality Modal Exter Quality  Mean Lot Area  \\\n",
       "Edwards                    Ex                  Ex   47757.000000   \n",
       "SawyerW                    Gd                  Gd   10297.500000   \n",
       "Somerst                    Gd                  Gd   12867.823529   \n",
       "Gilbert                    Gd                  Gd   11672.333333   \n",
       "NridgHt                    Gd                  Gd   15466.157895   \n",
       "CollgCr                    Gd                  Gd   12782.809524   \n",
       "Timber                     Gd                  Gd   13445.214286   \n",
       "NoRidge                    Gd                  Gd   18624.583333   \n",
       "Veenker                    Gd                  Gd   19433.111111   \n",
       "StoneBr                    Gd                  Ex   39528.666667   \n",
       "\n",
       "         Mean Sale Price  Mean Price per Area  Deviation in Price per Area  \n",
       "Edwards    176200.000000             3.930550                     0.950752  \n",
       "SawyerW    215750.000000            21.018843                     1.188072  \n",
       "Somerst    256204.647059            19.868429                     1.358809  \n",
       "Gilbert    223000.000000            19.160525                     1.920681  \n",
       "NridgHt    302021.368421            19.692874                     1.994279  \n",
       "CollgCr    241956.190476            19.207571                     2.119454  \n",
       "Timber     264538.714286            19.939039                     2.300928  \n",
       "NoRidge    324170.833333            19.200591                     2.829039  \n",
       "Veenker    270583.333333            16.295566                     4.184029  \n",
       "StoneBr    466529.000000            14.011932                     4.390784  "
      ]
     },
     "execution_count": 54,
     "metadata": {},
     "output_type": "execute_result"
    }
   ],
   "source": [
    "# Sorting the data frame \"nbd\" based on the \"Deviation in Price per Area\" feature\n",
    "nbd.sort_values(by = 'Deviation in Price per Area', ascending = True)"
   ]
  },
  {
   "cell_type": "code",
   "execution_count": 55,
   "id": "017f44c6-f0a0-4960-b8d8-31024e268906",
   "metadata": {},
   "outputs": [
    {
     "data": {
      "text/html": [
       "<div>\n",
       "<style scoped>\n",
       "    .dataframe tbody tr th:only-of-type {\n",
       "        vertical-align: middle;\n",
       "    }\n",
       "\n",
       "    .dataframe tbody tr th {\n",
       "        vertical-align: top;\n",
       "    }\n",
       "\n",
       "    .dataframe thead th {\n",
       "        text-align: right;\n",
       "    }\n",
       "</style>\n",
       "<table border=\"1\" class=\"dataframe\">\n",
       "  <thead>\n",
       "    <tr style=\"text-align: right;\">\n",
       "      <th></th>\n",
       "      <th>Number of Houses</th>\n",
       "      <th>Median Year Built</th>\n",
       "      <th>Mean Overall Quality</th>\n",
       "      <th>Modal Kitchen Quality</th>\n",
       "      <th>Modal Exter Quality</th>\n",
       "      <th>Mean Lot Area</th>\n",
       "      <th>Mean Sale Price</th>\n",
       "      <th>Mean Price per Area</th>\n",
       "      <th>Deviation in Price per Area</th>\n",
       "    </tr>\n",
       "  </thead>\n",
       "  <tbody>\n",
       "    <tr>\n",
       "      <th>Gilbert</th>\n",
       "      <td>6</td>\n",
       "      <td>2003.0</td>\n",
       "      <td>8.0</td>\n",
       "      <td>Gd</td>\n",
       "      <td>Gd</td>\n",
       "      <td>11672.333333</td>\n",
       "      <td>223000.0</td>\n",
       "      <td>19.160525</td>\n",
       "      <td>1.920681</td>\n",
       "    </tr>\n",
       "    <tr>\n",
       "      <th>Edwards</th>\n",
       "      <td>3</td>\n",
       "      <td>2008.0</td>\n",
       "      <td>10.0</td>\n",
       "      <td>Ex</td>\n",
       "      <td>Ex</td>\n",
       "      <td>47757.000000</td>\n",
       "      <td>176200.0</td>\n",
       "      <td>3.930550</td>\n",
       "      <td>0.950752</td>\n",
       "    </tr>\n",
       "  </tbody>\n",
       "</table>\n",
       "</div>"
      ],
      "text/plain": [
       "         Number of Houses  Median Year Built  Mean Overall Quality  \\\n",
       "Gilbert                 6             2003.0                   8.0   \n",
       "Edwards                 3             2008.0                  10.0   \n",
       "\n",
       "        Modal Kitchen Quality Modal Exter Quality  Mean Lot Area  \\\n",
       "Gilbert                    Gd                  Gd   11672.333333   \n",
       "Edwards                    Ex                  Ex   47757.000000   \n",
       "\n",
       "         Mean Sale Price  Mean Price per Area  Deviation in Price per Area  \n",
       "Gilbert         223000.0            19.160525                     1.920681  \n",
       "Edwards         176200.0             3.930550                     0.950752  "
      ]
     },
     "execution_count": 55,
     "metadata": {},
     "output_type": "execute_result"
    }
   ],
   "source": [
    "# Getting the top three neighbourhoods in which to invest based on \"Price per Area\" and \"Deviation in Price per Area\"\n",
    "nbd[(nbd['Mean Price per Area'] < nbd['Mean Price per Area'].median())\n",
    "& (nbd['Deviation in Price per Area'] < nbd['Deviation in Price per Area'].median())].head(3)"
   ]
  },
  {
   "cell_type": "code",
   "execution_count": 56,
   "id": "21703681-cd1d-4f26-a8c5-71e8e74455b8",
   "metadata": {},
   "outputs": [
    {
     "data": {
      "text/html": [
       "<div>\n",
       "<style scoped>\n",
       "    .dataframe tbody tr th:only-of-type {\n",
       "        vertical-align: middle;\n",
       "    }\n",
       "\n",
       "    .dataframe tbody tr th {\n",
       "        vertical-align: top;\n",
       "    }\n",
       "\n",
       "    .dataframe thead th {\n",
       "        text-align: right;\n",
       "    }\n",
       "</style>\n",
       "<table border=\"1\" class=\"dataframe\">\n",
       "  <thead>\n",
       "    <tr style=\"text-align: right;\">\n",
       "      <th></th>\n",
       "      <th>Number of Houses</th>\n",
       "      <th>Median Year Built</th>\n",
       "      <th>Mean Overall Quality</th>\n",
       "      <th>Modal Kitchen Quality</th>\n",
       "      <th>Modal Exter Quality</th>\n",
       "      <th>Mean Lot Area</th>\n",
       "      <th>Mean Sale Price</th>\n",
       "      <th>Mean Price per Area</th>\n",
       "      <th>Deviation in Price per Area</th>\n",
       "    </tr>\n",
       "  </thead>\n",
       "  <tbody>\n",
       "    <tr>\n",
       "      <th>Gilbert</th>\n",
       "      <td>6</td>\n",
       "      <td>2003.0</td>\n",
       "      <td>8.000000</td>\n",
       "      <td>Gd</td>\n",
       "      <td>Gd</td>\n",
       "      <td>11672.333333</td>\n",
       "      <td>223000.000000</td>\n",
       "      <td>19.160525</td>\n",
       "      <td>1.920681</td>\n",
       "    </tr>\n",
       "    <tr>\n",
       "      <th>NridgHt</th>\n",
       "      <td>19</td>\n",
       "      <td>2005.0</td>\n",
       "      <td>8.263158</td>\n",
       "      <td>Gd</td>\n",
       "      <td>Gd</td>\n",
       "      <td>15466.157895</td>\n",
       "      <td>302021.368421</td>\n",
       "      <td>19.692874</td>\n",
       "      <td>1.994279</td>\n",
       "    </tr>\n",
       "    <tr>\n",
       "      <th>Somerst</th>\n",
       "      <td>17</td>\n",
       "      <td>2006.0</td>\n",
       "      <td>8.117647</td>\n",
       "      <td>Gd</td>\n",
       "      <td>Gd</td>\n",
       "      <td>12867.823529</td>\n",
       "      <td>256204.647059</td>\n",
       "      <td>19.868429</td>\n",
       "      <td>1.358809</td>\n",
       "    </tr>\n",
       "  </tbody>\n",
       "</table>\n",
       "</div>"
      ],
      "text/plain": [
       "         Number of Houses  Median Year Built  Mean Overall Quality  \\\n",
       "Gilbert                 6             2003.0              8.000000   \n",
       "NridgHt                19             2005.0              8.263158   \n",
       "Somerst                17             2006.0              8.117647   \n",
       "\n",
       "        Modal Kitchen Quality Modal Exter Quality  Mean Lot Area  \\\n",
       "Gilbert                    Gd                  Gd   11672.333333   \n",
       "NridgHt                    Gd                  Gd   15466.157895   \n",
       "Somerst                    Gd                  Gd   12867.823529   \n",
       "\n",
       "         Mean Sale Price  Mean Price per Area  Deviation in Price per Area  \n",
       "Gilbert    223000.000000            19.160525                     1.920681  \n",
       "NridgHt    302021.368421            19.692874                     1.994279  \n",
       "Somerst    256204.647059            19.868429                     1.358809  "
      ]
     },
     "execution_count": 56,
     "metadata": {},
     "output_type": "execute_result"
    }
   ],
   "source": [
    "# Getting the top three neighbourhoods in which to invest based on \"Price per Area\" and \"Deviation in Price per Area\"\n",
    "# Considering neighbourhoods with \"Mean Price per Area\" less than 20 dollars per square feet\n",
    "# Considering neighbourhoods with \"Deviation in Price per Area\" less than 2 dollars per square feet\n",
    "nbd[(nbd['Mean Price per Area'] < 20) & (nbd['Deviation in Price per Area'] < 2)].head(3)"
   ]
  },
  {
   "cell_type": "code",
   "execution_count": null,
   "id": "8e5e1bff-580c-4742-9806-9e70f781335a",
   "metadata": {},
   "outputs": [],
   "source": []
  }
 ],
 "metadata": {
  "kernelspec": {
   "display_name": "Python 3 (ipykernel)",
   "language": "python",
   "name": "python3"
  },
  "language_info": {
   "codemirror_mode": {
    "name": "ipython",
    "version": 3
   },
   "file_extension": ".py",
   "mimetype": "text/x-python",
   "name": "python",
   "nbconvert_exporter": "python",
   "pygments_lexer": "ipython3",
   "version": "3.11.7"
  }
 },
 "nbformat": 4,
 "nbformat_minor": 5
}
